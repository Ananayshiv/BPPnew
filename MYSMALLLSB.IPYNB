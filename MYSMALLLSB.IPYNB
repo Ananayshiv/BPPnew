{
 "cells": [
  {
   "cell_type": "code",
   "execution_count": 1,
   "id": "ec1e9a1d",
   "metadata": {},
   "outputs": [
    {
     "name": "stdout",
     "output_type": "stream",
     "text": [
      "Bin 1:\n",
      "  Dimensions: (1.0, 1.0, 1.0)\n",
      "  Items: 11\n",
      "  Packing efficiency: 14.15%\n",
      "  Item 1:\n",
      "    Position: (0, 0, 0)\n",
      "    Dimensions: (0.45, 0.5, 0.15)\n",
      "    Volume: 0.0338\n",
      "  Item 2:\n",
      "    Position: (0.45, 0, 0)\n",
      "    Dimensions: (0.4, 0.3, 0.2)\n",
      "    Volume: 0.0240\n",
      "  Item 3:\n",
      "    Position: (0, 0.5, 0)\n",
      "    Dimensions: (0.5, 0.2, 0.2)\n",
      "    Volume: 0.0200\n",
      "  Item 4:\n",
      "    Position: (0.5, 0.5, 0)\n",
      "    Dimensions: (0.2, 0.5, 0.15)\n",
      "    Volume: 0.0150\n",
      "  Item 5:\n",
      "    Position: (0.7, 0.5, 0)\n",
      "    Dimensions: (0.2, 0.5, 0.15)\n",
      "    Volume: 0.0150\n",
      "  Item 6:\n",
      "    Position: (0, 0.7, 0)\n",
      "    Dimensions: (0.3, 0.25, 0.15)\n",
      "    Volume: 0.0112\n",
      "  Item 7:\n",
      "    Position: (0, 0, 0.15)\n",
      "    Dimensions: (0.4, 0.15, 0.15)\n",
      "    Volume: 0.0090\n",
      "  Item 8:\n",
      "    Position: (0.8500000000000001, 0, 0)\n",
      "    Dimensions: (0.15, 0.4, 0.1)\n",
      "    Volume: 0.0060\n",
      "  Item 9:\n",
      "    Position: (0.3, 0.7, 0)\n",
      "    Dimensions: (0.2, 0.15, 0.15)\n",
      "    Volume: 0.0045\n",
      "  Item 10:\n",
      "    Position: (0.8500000000000001, 0, 0.1)\n",
      "    Dimensions: (0.15, 0.25, 0.05)\n",
      "    Volume: 0.0019\n",
      "  Item 11:\n",
      "    Position: (0.3, 0.85, 0)\n",
      "    Dimensions: (0.15, 0.15, 0.05)\n",
      "    Volume: 0.0011\n",
      "Bin 2:\n",
      "  Dimensions: (1.0, 1.0, 1.0)\n",
      "  Items: 3\n",
      "  Packing efficiency: 1.22%\n",
      "  Item 1:\n",
      "    Position: (0, 0, 0)\n",
      "    Dimensions: (0.4, 0.3, 0.05)\n",
      "    Volume: 0.0060\n",
      "  Item 2:\n",
      "    Position: (0.4, 0, 0)\n",
      "    Dimensions: (0.5, 0.15, 0.05)\n",
      "    Volume: 0.0037\n",
      "  Item 3:\n",
      "    Position: (0, 0, 0.05)\n",
      "    Dimensions: (0.2, 0.25, 0.05)\n",
      "    Volume: 0.0025\n"
     ]
    },
    {
     "data": {
      "application/vnd.plotly.v1+json": {
       "config": {
        "plotlyServerURL": "https://plot.ly"
       },
       "data": [
        {
         "color": "lightgray",
         "flatshading": true,
         "i": [
          7,
          0,
          0,
          0,
          4,
          4,
          6,
          6,
          4,
          0,
          3,
          2
         ],
         "j": [
          3,
          4,
          1,
          2,
          5,
          6,
          5,
          2,
          0,
          1,
          6,
          3
         ],
         "k": [
          0,
          7,
          2,
          3,
          6,
          7,
          1,
          1,
          5,
          5,
          7,
          6
         ],
         "name": "Bin 1 Container",
         "opacity": 0.2,
         "showlegend": true,
         "type": "mesh3d",
         "x": [
          0,
          1,
          1,
          0,
          0,
          1,
          1,
          0
         ],
         "y": [
          0,
          0,
          1,
          1,
          0,
          0,
          1,
          1
         ],
         "z": [
          0,
          0,
          0,
          0,
          1,
          1,
          1,
          1
         ]
        },
        {
         "line": {
          "color": "black",
          "width": 2
         },
         "mode": "lines",
         "showlegend": false,
         "type": "scatter3d",
         "x": [
          0,
          1
         ],
         "y": [
          0,
          0
         ],
         "z": [
          0,
          0
         ]
        },
        {
         "line": {
          "color": "black",
          "width": 2
         },
         "mode": "lines",
         "showlegend": false,
         "type": "scatter3d",
         "x": [
          1,
          1
         ],
         "y": [
          0,
          1
         ],
         "z": [
          0,
          0
         ]
        },
        {
         "line": {
          "color": "black",
          "width": 2
         },
         "mode": "lines",
         "showlegend": false,
         "type": "scatter3d",
         "x": [
          1,
          0
         ],
         "y": [
          1,
          1
         ],
         "z": [
          0,
          0
         ]
        },
        {
         "line": {
          "color": "black",
          "width": 2
         },
         "mode": "lines",
         "showlegend": false,
         "type": "scatter3d",
         "x": [
          0,
          0
         ],
         "y": [
          1,
          0
         ],
         "z": [
          0,
          0
         ]
        },
        {
         "line": {
          "color": "black",
          "width": 2
         },
         "mode": "lines",
         "showlegend": false,
         "type": "scatter3d",
         "x": [
          0,
          1
         ],
         "y": [
          0,
          0
         ],
         "z": [
          1,
          1
         ]
        },
        {
         "line": {
          "color": "black",
          "width": 2
         },
         "mode": "lines",
         "showlegend": false,
         "type": "scatter3d",
         "x": [
          1,
          1
         ],
         "y": [
          0,
          1
         ],
         "z": [
          1,
          1
         ]
        },
        {
         "line": {
          "color": "black",
          "width": 2
         },
         "mode": "lines",
         "showlegend": false,
         "type": "scatter3d",
         "x": [
          1,
          0
         ],
         "y": [
          1,
          1
         ],
         "z": [
          1,
          1
         ]
        },
        {
         "line": {
          "color": "black",
          "width": 2
         },
         "mode": "lines",
         "showlegend": false,
         "type": "scatter3d",
         "x": [
          0,
          0
         ],
         "y": [
          1,
          0
         ],
         "z": [
          1,
          1
         ]
        },
        {
         "line": {
          "color": "black",
          "width": 2
         },
         "mode": "lines",
         "showlegend": false,
         "type": "scatter3d",
         "x": [
          0,
          0
         ],
         "y": [
          0,
          0
         ],
         "z": [
          0,
          1
         ]
        },
        {
         "line": {
          "color": "black",
          "width": 2
         },
         "mode": "lines",
         "showlegend": false,
         "type": "scatter3d",
         "x": [
          1,
          1
         ],
         "y": [
          0,
          0
         ],
         "z": [
          0,
          1
         ]
        },
        {
         "line": {
          "color": "black",
          "width": 2
         },
         "mode": "lines",
         "showlegend": false,
         "type": "scatter3d",
         "x": [
          1,
          1
         ],
         "y": [
          1,
          1
         ],
         "z": [
          0,
          1
         ]
        },
        {
         "line": {
          "color": "black",
          "width": 2
         },
         "mode": "lines",
         "showlegend": false,
         "type": "scatter3d",
         "x": [
          0,
          0
         ],
         "y": [
          1,
          1
         ],
         "z": [
          0,
          1
         ]
        },
        {
         "color": "#3182bd",
         "flatshading": true,
         "hoverinfo": "name",
         "i": [
          7,
          0,
          0,
          0,
          4,
          4,
          6,
          6,
          4,
          0,
          3,
          2
         ],
         "j": [
          3,
          4,
          1,
          2,
          5,
          6,
          5,
          2,
          0,
          1,
          6,
          3
         ],
         "k": [
          0,
          7,
          2,
          3,
          6,
          7,
          1,
          1,
          5,
          5,
          7,
          6
         ],
         "lighting": {
          "ambient": 0.4,
          "diffuse": 0.6,
          "fresnel": 0.1,
          "roughness": 0.2,
          "specular": 0.2
         },
         "lightposition": {
          "x": 100,
          "y": 100,
          "z": 1000
         },
         "name": "Bin 1 Item 1",
         "opacity": 1,
         "showlegend": true,
         "type": "mesh3d",
         "x": [
          0,
          0.45,
          0.45,
          0,
          0,
          0.45,
          0.45,
          0
         ],
         "y": [
          0,
          0,
          0.5,
          0.5,
          0,
          0,
          0.5,
          0.5
         ],
         "z": [
          0,
          0,
          0,
          0,
          0.15,
          0.15,
          0.15,
          0.15
         ]
        },
        {
         "hoverinfo": "none",
         "line": {
          "color": "black",
          "width": 2
         },
         "mode": "lines",
         "showlegend": false,
         "type": "scatter3d",
         "x": [
          0,
          0.45
         ],
         "y": [
          0,
          0
         ],
         "z": [
          0,
          0
         ]
        },
        {
         "hoverinfo": "none",
         "line": {
          "color": "black",
          "width": 2
         },
         "mode": "lines",
         "showlegend": false,
         "type": "scatter3d",
         "x": [
          0.45,
          0.45
         ],
         "y": [
          0,
          0.5
         ],
         "z": [
          0,
          0
         ]
        },
        {
         "hoverinfo": "none",
         "line": {
          "color": "black",
          "width": 2
         },
         "mode": "lines",
         "showlegend": false,
         "type": "scatter3d",
         "x": [
          0.45,
          0
         ],
         "y": [
          0.5,
          0.5
         ],
         "z": [
          0,
          0
         ]
        },
        {
         "hoverinfo": "none",
         "line": {
          "color": "black",
          "width": 2
         },
         "mode": "lines",
         "showlegend": false,
         "type": "scatter3d",
         "x": [
          0,
          0
         ],
         "y": [
          0.5,
          0
         ],
         "z": [
          0,
          0
         ]
        },
        {
         "hoverinfo": "none",
         "line": {
          "color": "black",
          "width": 2
         },
         "mode": "lines",
         "showlegend": false,
         "type": "scatter3d",
         "x": [
          0,
          0.45
         ],
         "y": [
          0,
          0
         ],
         "z": [
          0.15,
          0.15
         ]
        },
        {
         "hoverinfo": "none",
         "line": {
          "color": "black",
          "width": 2
         },
         "mode": "lines",
         "showlegend": false,
         "type": "scatter3d",
         "x": [
          0.45,
          0.45
         ],
         "y": [
          0,
          0.5
         ],
         "z": [
          0.15,
          0.15
         ]
        },
        {
         "hoverinfo": "none",
         "line": {
          "color": "black",
          "width": 2
         },
         "mode": "lines",
         "showlegend": false,
         "type": "scatter3d",
         "x": [
          0.45,
          0
         ],
         "y": [
          0.5,
          0.5
         ],
         "z": [
          0.15,
          0.15
         ]
        },
        {
         "hoverinfo": "none",
         "line": {
          "color": "black",
          "width": 2
         },
         "mode": "lines",
         "showlegend": false,
         "type": "scatter3d",
         "x": [
          0,
          0
         ],
         "y": [
          0.5,
          0
         ],
         "z": [
          0.15,
          0.15
         ]
        },
        {
         "hoverinfo": "none",
         "line": {
          "color": "black",
          "width": 2
         },
         "mode": "lines",
         "showlegend": false,
         "type": "scatter3d",
         "x": [
          0,
          0
         ],
         "y": [
          0,
          0
         ],
         "z": [
          0,
          0.15
         ]
        },
        {
         "hoverinfo": "none",
         "line": {
          "color": "black",
          "width": 2
         },
         "mode": "lines",
         "showlegend": false,
         "type": "scatter3d",
         "x": [
          0.45,
          0.45
         ],
         "y": [
          0,
          0
         ],
         "z": [
          0,
          0.15
         ]
        },
        {
         "hoverinfo": "none",
         "line": {
          "color": "black",
          "width": 2
         },
         "mode": "lines",
         "showlegend": false,
         "type": "scatter3d",
         "x": [
          0.45,
          0.45
         ],
         "y": [
          0.5,
          0.5
         ],
         "z": [
          0,
          0.15
         ]
        },
        {
         "hoverinfo": "none",
         "line": {
          "color": "black",
          "width": 2
         },
         "mode": "lines",
         "showlegend": false,
         "type": "scatter3d",
         "x": [
          0,
          0
         ],
         "y": [
          0.5,
          0.5
         ],
         "z": [
          0,
          0.15
         ]
        },
        {
         "color": "#6baed6",
         "flatshading": true,
         "hoverinfo": "name",
         "i": [
          7,
          0,
          0,
          0,
          4,
          4,
          6,
          6,
          4,
          0,
          3,
          2
         ],
         "j": [
          3,
          4,
          1,
          2,
          5,
          6,
          5,
          2,
          0,
          1,
          6,
          3
         ],
         "k": [
          0,
          7,
          2,
          3,
          6,
          7,
          1,
          1,
          5,
          5,
          7,
          6
         ],
         "lighting": {
          "ambient": 0.4,
          "diffuse": 0.6,
          "fresnel": 0.1,
          "roughness": 0.2,
          "specular": 0.2
         },
         "lightposition": {
          "x": 100,
          "y": 100,
          "z": 1000
         },
         "name": "Bin 1 Item 2",
         "opacity": 1,
         "showlegend": true,
         "type": "mesh3d",
         "x": [
          0.45,
          0.8500000000000001,
          0.8500000000000001,
          0.45,
          0.45,
          0.8500000000000001,
          0.8500000000000001,
          0.45
         ],
         "y": [
          0,
          0,
          0.3,
          0.3,
          0,
          0,
          0.3,
          0.3
         ],
         "z": [
          0,
          0,
          0,
          0,
          0.2,
          0.2,
          0.2,
          0.2
         ]
        },
        {
         "hoverinfo": "none",
         "line": {
          "color": "black",
          "width": 2
         },
         "mode": "lines",
         "showlegend": false,
         "type": "scatter3d",
         "x": [
          0.45,
          0.8500000000000001
         ],
         "y": [
          0,
          0
         ],
         "z": [
          0,
          0
         ]
        },
        {
         "hoverinfo": "none",
         "line": {
          "color": "black",
          "width": 2
         },
         "mode": "lines",
         "showlegend": false,
         "type": "scatter3d",
         "x": [
          0.8500000000000001,
          0.8500000000000001
         ],
         "y": [
          0,
          0.3
         ],
         "z": [
          0,
          0
         ]
        },
        {
         "hoverinfo": "none",
         "line": {
          "color": "black",
          "width": 2
         },
         "mode": "lines",
         "showlegend": false,
         "type": "scatter3d",
         "x": [
          0.8500000000000001,
          0.45
         ],
         "y": [
          0.3,
          0.3
         ],
         "z": [
          0,
          0
         ]
        },
        {
         "hoverinfo": "none",
         "line": {
          "color": "black",
          "width": 2
         },
         "mode": "lines",
         "showlegend": false,
         "type": "scatter3d",
         "x": [
          0.45,
          0.45
         ],
         "y": [
          0.3,
          0
         ],
         "z": [
          0,
          0
         ]
        },
        {
         "hoverinfo": "none",
         "line": {
          "color": "black",
          "width": 2
         },
         "mode": "lines",
         "showlegend": false,
         "type": "scatter3d",
         "x": [
          0.45,
          0.8500000000000001
         ],
         "y": [
          0,
          0
         ],
         "z": [
          0.2,
          0.2
         ]
        },
        {
         "hoverinfo": "none",
         "line": {
          "color": "black",
          "width": 2
         },
         "mode": "lines",
         "showlegend": false,
         "type": "scatter3d",
         "x": [
          0.8500000000000001,
          0.8500000000000001
         ],
         "y": [
          0,
          0.3
         ],
         "z": [
          0.2,
          0.2
         ]
        },
        {
         "hoverinfo": "none",
         "line": {
          "color": "black",
          "width": 2
         },
         "mode": "lines",
         "showlegend": false,
         "type": "scatter3d",
         "x": [
          0.8500000000000001,
          0.45
         ],
         "y": [
          0.3,
          0.3
         ],
         "z": [
          0.2,
          0.2
         ]
        },
        {
         "hoverinfo": "none",
         "line": {
          "color": "black",
          "width": 2
         },
         "mode": "lines",
         "showlegend": false,
         "type": "scatter3d",
         "x": [
          0.45,
          0.45
         ],
         "y": [
          0.3,
          0
         ],
         "z": [
          0.2,
          0.2
         ]
        },
        {
         "hoverinfo": "none",
         "line": {
          "color": "black",
          "width": 2
         },
         "mode": "lines",
         "showlegend": false,
         "type": "scatter3d",
         "x": [
          0.45,
          0.45
         ],
         "y": [
          0,
          0
         ],
         "z": [
          0,
          0.2
         ]
        },
        {
         "hoverinfo": "none",
         "line": {
          "color": "black",
          "width": 2
         },
         "mode": "lines",
         "showlegend": false,
         "type": "scatter3d",
         "x": [
          0.8500000000000001,
          0.8500000000000001
         ],
         "y": [
          0,
          0
         ],
         "z": [
          0,
          0.2
         ]
        },
        {
         "hoverinfo": "none",
         "line": {
          "color": "black",
          "width": 2
         },
         "mode": "lines",
         "showlegend": false,
         "type": "scatter3d",
         "x": [
          0.8500000000000001,
          0.8500000000000001
         ],
         "y": [
          0.3,
          0.3
         ],
         "z": [
          0,
          0.2
         ]
        },
        {
         "hoverinfo": "none",
         "line": {
          "color": "black",
          "width": 2
         },
         "mode": "lines",
         "showlegend": false,
         "type": "scatter3d",
         "x": [
          0.45,
          0.45
         ],
         "y": [
          0.3,
          0.3
         ],
         "z": [
          0,
          0.2
         ]
        },
        {
         "color": "#9ecae1",
         "flatshading": true,
         "hoverinfo": "name",
         "i": [
          7,
          0,
          0,
          0,
          4,
          4,
          6,
          6,
          4,
          0,
          3,
          2
         ],
         "j": [
          3,
          4,
          1,
          2,
          5,
          6,
          5,
          2,
          0,
          1,
          6,
          3
         ],
         "k": [
          0,
          7,
          2,
          3,
          6,
          7,
          1,
          1,
          5,
          5,
          7,
          6
         ],
         "lighting": {
          "ambient": 0.4,
          "diffuse": 0.6,
          "fresnel": 0.1,
          "roughness": 0.2,
          "specular": 0.2
         },
         "lightposition": {
          "x": 100,
          "y": 100,
          "z": 1000
         },
         "name": "Bin 1 Item 3",
         "opacity": 1,
         "showlegend": true,
         "type": "mesh3d",
         "x": [
          0,
          0.5,
          0.5,
          0,
          0,
          0.5,
          0.5,
          0
         ],
         "y": [
          0.5,
          0.5,
          0.7,
          0.7,
          0.5,
          0.5,
          0.7,
          0.7
         ],
         "z": [
          0,
          0,
          0,
          0,
          0.2,
          0.2,
          0.2,
          0.2
         ]
        },
        {
         "hoverinfo": "none",
         "line": {
          "color": "black",
          "width": 2
         },
         "mode": "lines",
         "showlegend": false,
         "type": "scatter3d",
         "x": [
          0,
          0.5
         ],
         "y": [
          0.5,
          0.5
         ],
         "z": [
          0,
          0
         ]
        },
        {
         "hoverinfo": "none",
         "line": {
          "color": "black",
          "width": 2
         },
         "mode": "lines",
         "showlegend": false,
         "type": "scatter3d",
         "x": [
          0.5,
          0.5
         ],
         "y": [
          0.5,
          0.7
         ],
         "z": [
          0,
          0
         ]
        },
        {
         "hoverinfo": "none",
         "line": {
          "color": "black",
          "width": 2
         },
         "mode": "lines",
         "showlegend": false,
         "type": "scatter3d",
         "x": [
          0.5,
          0
         ],
         "y": [
          0.7,
          0.7
         ],
         "z": [
          0,
          0
         ]
        },
        {
         "hoverinfo": "none",
         "line": {
          "color": "black",
          "width": 2
         },
         "mode": "lines",
         "showlegend": false,
         "type": "scatter3d",
         "x": [
          0,
          0
         ],
         "y": [
          0.7,
          0.5
         ],
         "z": [
          0,
          0
         ]
        },
        {
         "hoverinfo": "none",
         "line": {
          "color": "black",
          "width": 2
         },
         "mode": "lines",
         "showlegend": false,
         "type": "scatter3d",
         "x": [
          0,
          0.5
         ],
         "y": [
          0.5,
          0.5
         ],
         "z": [
          0.2,
          0.2
         ]
        },
        {
         "hoverinfo": "none",
         "line": {
          "color": "black",
          "width": 2
         },
         "mode": "lines",
         "showlegend": false,
         "type": "scatter3d",
         "x": [
          0.5,
          0.5
         ],
         "y": [
          0.5,
          0.7
         ],
         "z": [
          0.2,
          0.2
         ]
        },
        {
         "hoverinfo": "none",
         "line": {
          "color": "black",
          "width": 2
         },
         "mode": "lines",
         "showlegend": false,
         "type": "scatter3d",
         "x": [
          0.5,
          0
         ],
         "y": [
          0.7,
          0.7
         ],
         "z": [
          0.2,
          0.2
         ]
        },
        {
         "hoverinfo": "none",
         "line": {
          "color": "black",
          "width": 2
         },
         "mode": "lines",
         "showlegend": false,
         "type": "scatter3d",
         "x": [
          0,
          0
         ],
         "y": [
          0.7,
          0.5
         ],
         "z": [
          0.2,
          0.2
         ]
        },
        {
         "hoverinfo": "none",
         "line": {
          "color": "black",
          "width": 2
         },
         "mode": "lines",
         "showlegend": false,
         "type": "scatter3d",
         "x": [
          0,
          0
         ],
         "y": [
          0.5,
          0.5
         ],
         "z": [
          0,
          0.2
         ]
        },
        {
         "hoverinfo": "none",
         "line": {
          "color": "black",
          "width": 2
         },
         "mode": "lines",
         "showlegend": false,
         "type": "scatter3d",
         "x": [
          0.5,
          0.5
         ],
         "y": [
          0.5,
          0.5
         ],
         "z": [
          0,
          0.2
         ]
        },
        {
         "hoverinfo": "none",
         "line": {
          "color": "black",
          "width": 2
         },
         "mode": "lines",
         "showlegend": false,
         "type": "scatter3d",
         "x": [
          0.5,
          0.5
         ],
         "y": [
          0.7,
          0.7
         ],
         "z": [
          0,
          0.2
         ]
        },
        {
         "hoverinfo": "none",
         "line": {
          "color": "black",
          "width": 2
         },
         "mode": "lines",
         "showlegend": false,
         "type": "scatter3d",
         "x": [
          0,
          0
         ],
         "y": [
          0.7,
          0.7
         ],
         "z": [
          0,
          0.2
         ]
        },
        {
         "color": "#fd8d3c",
         "flatshading": true,
         "hoverinfo": "name",
         "i": [
          7,
          0,
          0,
          0,
          4,
          4,
          6,
          6,
          4,
          0,
          3,
          2
         ],
         "j": [
          3,
          4,
          1,
          2,
          5,
          6,
          5,
          2,
          0,
          1,
          6,
          3
         ],
         "k": [
          0,
          7,
          2,
          3,
          6,
          7,
          1,
          1,
          5,
          5,
          7,
          6
         ],
         "lighting": {
          "ambient": 0.4,
          "diffuse": 0.6,
          "fresnel": 0.1,
          "roughness": 0.2,
          "specular": 0.2
         },
         "lightposition": {
          "x": 100,
          "y": 100,
          "z": 1000
         },
         "name": "Bin 1 Item 4",
         "opacity": 1,
         "showlegend": true,
         "type": "mesh3d",
         "x": [
          0.5,
          0.7,
          0.7,
          0.5,
          0.5,
          0.7,
          0.7,
          0.5
         ],
         "y": [
          0.5,
          0.5,
          1,
          1,
          0.5,
          0.5,
          1,
          1
         ],
         "z": [
          0,
          0,
          0,
          0,
          0.15,
          0.15,
          0.15,
          0.15
         ]
        },
        {
         "hoverinfo": "none",
         "line": {
          "color": "black",
          "width": 2
         },
         "mode": "lines",
         "showlegend": false,
         "type": "scatter3d",
         "x": [
          0.5,
          0.7
         ],
         "y": [
          0.5,
          0.5
         ],
         "z": [
          0,
          0
         ]
        },
        {
         "hoverinfo": "none",
         "line": {
          "color": "black",
          "width": 2
         },
         "mode": "lines",
         "showlegend": false,
         "type": "scatter3d",
         "x": [
          0.7,
          0.7
         ],
         "y": [
          0.5,
          1
         ],
         "z": [
          0,
          0
         ]
        },
        {
         "hoverinfo": "none",
         "line": {
          "color": "black",
          "width": 2
         },
         "mode": "lines",
         "showlegend": false,
         "type": "scatter3d",
         "x": [
          0.7,
          0.5
         ],
         "y": [
          1,
          1
         ],
         "z": [
          0,
          0
         ]
        },
        {
         "hoverinfo": "none",
         "line": {
          "color": "black",
          "width": 2
         },
         "mode": "lines",
         "showlegend": false,
         "type": "scatter3d",
         "x": [
          0.5,
          0.5
         ],
         "y": [
          1,
          0.5
         ],
         "z": [
          0,
          0
         ]
        },
        {
         "hoverinfo": "none",
         "line": {
          "color": "black",
          "width": 2
         },
         "mode": "lines",
         "showlegend": false,
         "type": "scatter3d",
         "x": [
          0.5,
          0.7
         ],
         "y": [
          0.5,
          0.5
         ],
         "z": [
          0.15,
          0.15
         ]
        },
        {
         "hoverinfo": "none",
         "line": {
          "color": "black",
          "width": 2
         },
         "mode": "lines",
         "showlegend": false,
         "type": "scatter3d",
         "x": [
          0.7,
          0.7
         ],
         "y": [
          0.5,
          1
         ],
         "z": [
          0.15,
          0.15
         ]
        },
        {
         "hoverinfo": "none",
         "line": {
          "color": "black",
          "width": 2
         },
         "mode": "lines",
         "showlegend": false,
         "type": "scatter3d",
         "x": [
          0.7,
          0.5
         ],
         "y": [
          1,
          1
         ],
         "z": [
          0.15,
          0.15
         ]
        },
        {
         "hoverinfo": "none",
         "line": {
          "color": "black",
          "width": 2
         },
         "mode": "lines",
         "showlegend": false,
         "type": "scatter3d",
         "x": [
          0.5,
          0.5
         ],
         "y": [
          1,
          0.5
         ],
         "z": [
          0.15,
          0.15
         ]
        },
        {
         "hoverinfo": "none",
         "line": {
          "color": "black",
          "width": 2
         },
         "mode": "lines",
         "showlegend": false,
         "type": "scatter3d",
         "x": [
          0.5,
          0.5
         ],
         "y": [
          0.5,
          0.5
         ],
         "z": [
          0,
          0.15
         ]
        },
        {
         "hoverinfo": "none",
         "line": {
          "color": "black",
          "width": 2
         },
         "mode": "lines",
         "showlegend": false,
         "type": "scatter3d",
         "x": [
          0.7,
          0.7
         ],
         "y": [
          0.5,
          0.5
         ],
         "z": [
          0,
          0.15
         ]
        },
        {
         "hoverinfo": "none",
         "line": {
          "color": "black",
          "width": 2
         },
         "mode": "lines",
         "showlegend": false,
         "type": "scatter3d",
         "x": [
          0.7,
          0.7
         ],
         "y": [
          1,
          1
         ],
         "z": [
          0,
          0.15
         ]
        },
        {
         "hoverinfo": "none",
         "line": {
          "color": "black",
          "width": 2
         },
         "mode": "lines",
         "showlegend": false,
         "type": "scatter3d",
         "x": [
          0.5,
          0.5
         ],
         "y": [
          1,
          1
         ],
         "z": [
          0,
          0.15
         ]
        },
        {
         "color": "#fdae6b",
         "flatshading": true,
         "hoverinfo": "name",
         "i": [
          7,
          0,
          0,
          0,
          4,
          4,
          6,
          6,
          4,
          0,
          3,
          2
         ],
         "j": [
          3,
          4,
          1,
          2,
          5,
          6,
          5,
          2,
          0,
          1,
          6,
          3
         ],
         "k": [
          0,
          7,
          2,
          3,
          6,
          7,
          1,
          1,
          5,
          5,
          7,
          6
         ],
         "lighting": {
          "ambient": 0.4,
          "diffuse": 0.6,
          "fresnel": 0.1,
          "roughness": 0.2,
          "specular": 0.2
         },
         "lightposition": {
          "x": 100,
          "y": 100,
          "z": 1000
         },
         "name": "Bin 1 Item 5",
         "opacity": 1,
         "showlegend": true,
         "type": "mesh3d",
         "x": [
          0.7,
          0.8999999999999999,
          0.8999999999999999,
          0.7,
          0.7,
          0.8999999999999999,
          0.8999999999999999,
          0.7
         ],
         "y": [
          0.5,
          0.5,
          1,
          1,
          0.5,
          0.5,
          1,
          1
         ],
         "z": [
          0,
          0,
          0,
          0,
          0.15,
          0.15,
          0.15,
          0.15
         ]
        },
        {
         "hoverinfo": "none",
         "line": {
          "color": "black",
          "width": 2
         },
         "mode": "lines",
         "showlegend": false,
         "type": "scatter3d",
         "x": [
          0.7,
          0.8999999999999999
         ],
         "y": [
          0.5,
          0.5
         ],
         "z": [
          0,
          0
         ]
        },
        {
         "hoverinfo": "none",
         "line": {
          "color": "black",
          "width": 2
         },
         "mode": "lines",
         "showlegend": false,
         "type": "scatter3d",
         "x": [
          0.8999999999999999,
          0.8999999999999999
         ],
         "y": [
          0.5,
          1
         ],
         "z": [
          0,
          0
         ]
        },
        {
         "hoverinfo": "none",
         "line": {
          "color": "black",
          "width": 2
         },
         "mode": "lines",
         "showlegend": false,
         "type": "scatter3d",
         "x": [
          0.8999999999999999,
          0.7
         ],
         "y": [
          1,
          1
         ],
         "z": [
          0,
          0
         ]
        },
        {
         "hoverinfo": "none",
         "line": {
          "color": "black",
          "width": 2
         },
         "mode": "lines",
         "showlegend": false,
         "type": "scatter3d",
         "x": [
          0.7,
          0.7
         ],
         "y": [
          1,
          0.5
         ],
         "z": [
          0,
          0
         ]
        },
        {
         "hoverinfo": "none",
         "line": {
          "color": "black",
          "width": 2
         },
         "mode": "lines",
         "showlegend": false,
         "type": "scatter3d",
         "x": [
          0.7,
          0.8999999999999999
         ],
         "y": [
          0.5,
          0.5
         ],
         "z": [
          0.15,
          0.15
         ]
        },
        {
         "hoverinfo": "none",
         "line": {
          "color": "black",
          "width": 2
         },
         "mode": "lines",
         "showlegend": false,
         "type": "scatter3d",
         "x": [
          0.8999999999999999,
          0.8999999999999999
         ],
         "y": [
          0.5,
          1
         ],
         "z": [
          0.15,
          0.15
         ]
        },
        {
         "hoverinfo": "none",
         "line": {
          "color": "black",
          "width": 2
         },
         "mode": "lines",
         "showlegend": false,
         "type": "scatter3d",
         "x": [
          0.8999999999999999,
          0.7
         ],
         "y": [
          1,
          1
         ],
         "z": [
          0.15,
          0.15
         ]
        },
        {
         "hoverinfo": "none",
         "line": {
          "color": "black",
          "width": 2
         },
         "mode": "lines",
         "showlegend": false,
         "type": "scatter3d",
         "x": [
          0.7,
          0.7
         ],
         "y": [
          1,
          0.5
         ],
         "z": [
          0.15,
          0.15
         ]
        },
        {
         "hoverinfo": "none",
         "line": {
          "color": "black",
          "width": 2
         },
         "mode": "lines",
         "showlegend": false,
         "type": "scatter3d",
         "x": [
          0.7,
          0.7
         ],
         "y": [
          0.5,
          0.5
         ],
         "z": [
          0,
          0.15
         ]
        },
        {
         "hoverinfo": "none",
         "line": {
          "color": "black",
          "width": 2
         },
         "mode": "lines",
         "showlegend": false,
         "type": "scatter3d",
         "x": [
          0.8999999999999999,
          0.8999999999999999
         ],
         "y": [
          0.5,
          0.5
         ],
         "z": [
          0,
          0.15
         ]
        },
        {
         "hoverinfo": "none",
         "line": {
          "color": "black",
          "width": 2
         },
         "mode": "lines",
         "showlegend": false,
         "type": "scatter3d",
         "x": [
          0.8999999999999999,
          0.8999999999999999
         ],
         "y": [
          1,
          1
         ],
         "z": [
          0,
          0.15
         ]
        },
        {
         "hoverinfo": "none",
         "line": {
          "color": "black",
          "width": 2
         },
         "mode": "lines",
         "showlegend": false,
         "type": "scatter3d",
         "x": [
          0.7,
          0.7
         ],
         "y": [
          1,
          1
         ],
         "z": [
          0,
          0.15
         ]
        },
        {
         "color": "#fdd0a2",
         "flatshading": true,
         "hoverinfo": "name",
         "i": [
          7,
          0,
          0,
          0,
          4,
          4,
          6,
          6,
          4,
          0,
          3,
          2
         ],
         "j": [
          3,
          4,
          1,
          2,
          5,
          6,
          5,
          2,
          0,
          1,
          6,
          3
         ],
         "k": [
          0,
          7,
          2,
          3,
          6,
          7,
          1,
          1,
          5,
          5,
          7,
          6
         ],
         "lighting": {
          "ambient": 0.4,
          "diffuse": 0.6,
          "fresnel": 0.1,
          "roughness": 0.2,
          "specular": 0.2
         },
         "lightposition": {
          "x": 100,
          "y": 100,
          "z": 1000
         },
         "name": "Bin 1 Item 6",
         "opacity": 1,
         "showlegend": true,
         "type": "mesh3d",
         "x": [
          0,
          0.3,
          0.3,
          0,
          0,
          0.3,
          0.3,
          0
         ],
         "y": [
          0.7,
          0.7,
          0.95,
          0.95,
          0.7,
          0.7,
          0.95,
          0.95
         ],
         "z": [
          0,
          0,
          0,
          0,
          0.15,
          0.15,
          0.15,
          0.15
         ]
        },
        {
         "hoverinfo": "none",
         "line": {
          "color": "black",
          "width": 2
         },
         "mode": "lines",
         "showlegend": false,
         "type": "scatter3d",
         "x": [
          0,
          0.3
         ],
         "y": [
          0.7,
          0.7
         ],
         "z": [
          0,
          0
         ]
        },
        {
         "hoverinfo": "none",
         "line": {
          "color": "black",
          "width": 2
         },
         "mode": "lines",
         "showlegend": false,
         "type": "scatter3d",
         "x": [
          0.3,
          0.3
         ],
         "y": [
          0.7,
          0.95
         ],
         "z": [
          0,
          0
         ]
        },
        {
         "hoverinfo": "none",
         "line": {
          "color": "black",
          "width": 2
         },
         "mode": "lines",
         "showlegend": false,
         "type": "scatter3d",
         "x": [
          0.3,
          0
         ],
         "y": [
          0.95,
          0.95
         ],
         "z": [
          0,
          0
         ]
        },
        {
         "hoverinfo": "none",
         "line": {
          "color": "black",
          "width": 2
         },
         "mode": "lines",
         "showlegend": false,
         "type": "scatter3d",
         "x": [
          0,
          0
         ],
         "y": [
          0.95,
          0.7
         ],
         "z": [
          0,
          0
         ]
        },
        {
         "hoverinfo": "none",
         "line": {
          "color": "black",
          "width": 2
         },
         "mode": "lines",
         "showlegend": false,
         "type": "scatter3d",
         "x": [
          0,
          0.3
         ],
         "y": [
          0.7,
          0.7
         ],
         "z": [
          0.15,
          0.15
         ]
        },
        {
         "hoverinfo": "none",
         "line": {
          "color": "black",
          "width": 2
         },
         "mode": "lines",
         "showlegend": false,
         "type": "scatter3d",
         "x": [
          0.3,
          0.3
         ],
         "y": [
          0.7,
          0.95
         ],
         "z": [
          0.15,
          0.15
         ]
        },
        {
         "hoverinfo": "none",
         "line": {
          "color": "black",
          "width": 2
         },
         "mode": "lines",
         "showlegend": false,
         "type": "scatter3d",
         "x": [
          0.3,
          0
         ],
         "y": [
          0.95,
          0.95
         ],
         "z": [
          0.15,
          0.15
         ]
        },
        {
         "hoverinfo": "none",
         "line": {
          "color": "black",
          "width": 2
         },
         "mode": "lines",
         "showlegend": false,
         "type": "scatter3d",
         "x": [
          0,
          0
         ],
         "y": [
          0.95,
          0.7
         ],
         "z": [
          0.15,
          0.15
         ]
        },
        {
         "hoverinfo": "none",
         "line": {
          "color": "black",
          "width": 2
         },
         "mode": "lines",
         "showlegend": false,
         "type": "scatter3d",
         "x": [
          0,
          0
         ],
         "y": [
          0.7,
          0.7
         ],
         "z": [
          0,
          0.15
         ]
        },
        {
         "hoverinfo": "none",
         "line": {
          "color": "black",
          "width": 2
         },
         "mode": "lines",
         "showlegend": false,
         "type": "scatter3d",
         "x": [
          0.3,
          0.3
         ],
         "y": [
          0.7,
          0.7
         ],
         "z": [
          0,
          0.15
         ]
        },
        {
         "hoverinfo": "none",
         "line": {
          "color": "black",
          "width": 2
         },
         "mode": "lines",
         "showlegend": false,
         "type": "scatter3d",
         "x": [
          0.3,
          0.3
         ],
         "y": [
          0.95,
          0.95
         ],
         "z": [
          0,
          0.15
         ]
        },
        {
         "hoverinfo": "none",
         "line": {
          "color": "black",
          "width": 2
         },
         "mode": "lines",
         "showlegend": false,
         "type": "scatter3d",
         "x": [
          0,
          0
         ],
         "y": [
          0.95,
          0.95
         ],
         "z": [
          0,
          0.15
         ]
        },
        {
         "color": "#31a354",
         "flatshading": true,
         "hoverinfo": "name",
         "i": [
          7,
          0,
          0,
          0,
          4,
          4,
          6,
          6,
          4,
          0,
          3,
          2
         ],
         "j": [
          3,
          4,
          1,
          2,
          5,
          6,
          5,
          2,
          0,
          1,
          6,
          3
         ],
         "k": [
          0,
          7,
          2,
          3,
          6,
          7,
          1,
          1,
          5,
          5,
          7,
          6
         ],
         "lighting": {
          "ambient": 0.4,
          "diffuse": 0.6,
          "fresnel": 0.1,
          "roughness": 0.2,
          "specular": 0.2
         },
         "lightposition": {
          "x": 100,
          "y": 100,
          "z": 1000
         },
         "name": "Bin 1 Item 7",
         "opacity": 1,
         "showlegend": true,
         "type": "mesh3d",
         "x": [
          0,
          0.4,
          0.4,
          0,
          0,
          0.4,
          0.4,
          0
         ],
         "y": [
          0,
          0,
          0.15,
          0.15,
          0,
          0,
          0.15,
          0.15
         ],
         "z": [
          0.15,
          0.15,
          0.15,
          0.15,
          0.3,
          0.3,
          0.3,
          0.3
         ]
        },
        {
         "hoverinfo": "none",
         "line": {
          "color": "black",
          "width": 2
         },
         "mode": "lines",
         "showlegend": false,
         "type": "scatter3d",
         "x": [
          0,
          0.4
         ],
         "y": [
          0,
          0
         ],
         "z": [
          0.15,
          0.15
         ]
        },
        {
         "hoverinfo": "none",
         "line": {
          "color": "black",
          "width": 2
         },
         "mode": "lines",
         "showlegend": false,
         "type": "scatter3d",
         "x": [
          0.4,
          0.4
         ],
         "y": [
          0,
          0.15
         ],
         "z": [
          0.15,
          0.15
         ]
        },
        {
         "hoverinfo": "none",
         "line": {
          "color": "black",
          "width": 2
         },
         "mode": "lines",
         "showlegend": false,
         "type": "scatter3d",
         "x": [
          0.4,
          0
         ],
         "y": [
          0.15,
          0.15
         ],
         "z": [
          0.15,
          0.15
         ]
        },
        {
         "hoverinfo": "none",
         "line": {
          "color": "black",
          "width": 2
         },
         "mode": "lines",
         "showlegend": false,
         "type": "scatter3d",
         "x": [
          0,
          0
         ],
         "y": [
          0.15,
          0
         ],
         "z": [
          0.15,
          0.15
         ]
        },
        {
         "hoverinfo": "none",
         "line": {
          "color": "black",
          "width": 2
         },
         "mode": "lines",
         "showlegend": false,
         "type": "scatter3d",
         "x": [
          0,
          0.4
         ],
         "y": [
          0,
          0
         ],
         "z": [
          0.3,
          0.3
         ]
        },
        {
         "hoverinfo": "none",
         "line": {
          "color": "black",
          "width": 2
         },
         "mode": "lines",
         "showlegend": false,
         "type": "scatter3d",
         "x": [
          0.4,
          0.4
         ],
         "y": [
          0,
          0.15
         ],
         "z": [
          0.3,
          0.3
         ]
        },
        {
         "hoverinfo": "none",
         "line": {
          "color": "black",
          "width": 2
         },
         "mode": "lines",
         "showlegend": false,
         "type": "scatter3d",
         "x": [
          0.4,
          0
         ],
         "y": [
          0.15,
          0.15
         ],
         "z": [
          0.3,
          0.3
         ]
        },
        {
         "hoverinfo": "none",
         "line": {
          "color": "black",
          "width": 2
         },
         "mode": "lines",
         "showlegend": false,
         "type": "scatter3d",
         "x": [
          0,
          0
         ],
         "y": [
          0.15,
          0
         ],
         "z": [
          0.3,
          0.3
         ]
        },
        {
         "hoverinfo": "none",
         "line": {
          "color": "black",
          "width": 2
         },
         "mode": "lines",
         "showlegend": false,
         "type": "scatter3d",
         "x": [
          0,
          0
         ],
         "y": [
          0,
          0
         ],
         "z": [
          0.15,
          0.3
         ]
        },
        {
         "hoverinfo": "none",
         "line": {
          "color": "black",
          "width": 2
         },
         "mode": "lines",
         "showlegend": false,
         "type": "scatter3d",
         "x": [
          0.4,
          0.4
         ],
         "y": [
          0,
          0
         ],
         "z": [
          0.15,
          0.3
         ]
        },
        {
         "hoverinfo": "none",
         "line": {
          "color": "black",
          "width": 2
         },
         "mode": "lines",
         "showlegend": false,
         "type": "scatter3d",
         "x": [
          0.4,
          0.4
         ],
         "y": [
          0.15,
          0.15
         ],
         "z": [
          0.15,
          0.3
         ]
        },
        {
         "hoverinfo": "none",
         "line": {
          "color": "black",
          "width": 2
         },
         "mode": "lines",
         "showlegend": false,
         "type": "scatter3d",
         "x": [
          0,
          0
         ],
         "y": [
          0.15,
          0.15
         ],
         "z": [
          0.15,
          0.3
         ]
        },
        {
         "color": "#74c476",
         "flatshading": true,
         "hoverinfo": "name",
         "i": [
          7,
          0,
          0,
          0,
          4,
          4,
          6,
          6,
          4,
          0,
          3,
          2
         ],
         "j": [
          3,
          4,
          1,
          2,
          5,
          6,
          5,
          2,
          0,
          1,
          6,
          3
         ],
         "k": [
          0,
          7,
          2,
          3,
          6,
          7,
          1,
          1,
          5,
          5,
          7,
          6
         ],
         "lighting": {
          "ambient": 0.4,
          "diffuse": 0.6,
          "fresnel": 0.1,
          "roughness": 0.2,
          "specular": 0.2
         },
         "lightposition": {
          "x": 100,
          "y": 100,
          "z": 1000
         },
         "name": "Bin 1 Item 8",
         "opacity": 1,
         "showlegend": true,
         "type": "mesh3d",
         "x": [
          0.8500000000000001,
          1,
          1,
          0.8500000000000001,
          0.8500000000000001,
          1,
          1,
          0.8500000000000001
         ],
         "y": [
          0,
          0,
          0.4,
          0.4,
          0,
          0,
          0.4,
          0.4
         ],
         "z": [
          0,
          0,
          0,
          0,
          0.1,
          0.1,
          0.1,
          0.1
         ]
        },
        {
         "hoverinfo": "none",
         "line": {
          "color": "black",
          "width": 2
         },
         "mode": "lines",
         "showlegend": false,
         "type": "scatter3d",
         "x": [
          0.8500000000000001,
          1
         ],
         "y": [
          0,
          0
         ],
         "z": [
          0,
          0
         ]
        },
        {
         "hoverinfo": "none",
         "line": {
          "color": "black",
          "width": 2
         },
         "mode": "lines",
         "showlegend": false,
         "type": "scatter3d",
         "x": [
          1,
          1
         ],
         "y": [
          0,
          0.4
         ],
         "z": [
          0,
          0
         ]
        },
        {
         "hoverinfo": "none",
         "line": {
          "color": "black",
          "width": 2
         },
         "mode": "lines",
         "showlegend": false,
         "type": "scatter3d",
         "x": [
          1,
          0.8500000000000001
         ],
         "y": [
          0.4,
          0.4
         ],
         "z": [
          0,
          0
         ]
        },
        {
         "hoverinfo": "none",
         "line": {
          "color": "black",
          "width": 2
         },
         "mode": "lines",
         "showlegend": false,
         "type": "scatter3d",
         "x": [
          0.8500000000000001,
          0.8500000000000001
         ],
         "y": [
          0.4,
          0
         ],
         "z": [
          0,
          0
         ]
        },
        {
         "hoverinfo": "none",
         "line": {
          "color": "black",
          "width": 2
         },
         "mode": "lines",
         "showlegend": false,
         "type": "scatter3d",
         "x": [
          0.8500000000000001,
          1
         ],
         "y": [
          0,
          0
         ],
         "z": [
          0.1,
          0.1
         ]
        },
        {
         "hoverinfo": "none",
         "line": {
          "color": "black",
          "width": 2
         },
         "mode": "lines",
         "showlegend": false,
         "type": "scatter3d",
         "x": [
          1,
          1
         ],
         "y": [
          0,
          0.4
         ],
         "z": [
          0.1,
          0.1
         ]
        },
        {
         "hoverinfo": "none",
         "line": {
          "color": "black",
          "width": 2
         },
         "mode": "lines",
         "showlegend": false,
         "type": "scatter3d",
         "x": [
          1,
          0.8500000000000001
         ],
         "y": [
          0.4,
          0.4
         ],
         "z": [
          0.1,
          0.1
         ]
        },
        {
         "hoverinfo": "none",
         "line": {
          "color": "black",
          "width": 2
         },
         "mode": "lines",
         "showlegend": false,
         "type": "scatter3d",
         "x": [
          0.8500000000000001,
          0.8500000000000001
         ],
         "y": [
          0.4,
          0
         ],
         "z": [
          0.1,
          0.1
         ]
        },
        {
         "hoverinfo": "none",
         "line": {
          "color": "black",
          "width": 2
         },
         "mode": "lines",
         "showlegend": false,
         "type": "scatter3d",
         "x": [
          0.8500000000000001,
          0.8500000000000001
         ],
         "y": [
          0,
          0
         ],
         "z": [
          0,
          0.1
         ]
        },
        {
         "hoverinfo": "none",
         "line": {
          "color": "black",
          "width": 2
         },
         "mode": "lines",
         "showlegend": false,
         "type": "scatter3d",
         "x": [
          1,
          1
         ],
         "y": [
          0,
          0
         ],
         "z": [
          0,
          0.1
         ]
        },
        {
         "hoverinfo": "none",
         "line": {
          "color": "black",
          "width": 2
         },
         "mode": "lines",
         "showlegend": false,
         "type": "scatter3d",
         "x": [
          1,
          1
         ],
         "y": [
          0.4,
          0.4
         ],
         "z": [
          0,
          0.1
         ]
        },
        {
         "hoverinfo": "none",
         "line": {
          "color": "black",
          "width": 2
         },
         "mode": "lines",
         "showlegend": false,
         "type": "scatter3d",
         "x": [
          0.8500000000000001,
          0.8500000000000001
         ],
         "y": [
          0.4,
          0.4
         ],
         "z": [
          0,
          0.1
         ]
        },
        {
         "color": "#a1d99b",
         "flatshading": true,
         "hoverinfo": "name",
         "i": [
          7,
          0,
          0,
          0,
          4,
          4,
          6,
          6,
          4,
          0,
          3,
          2
         ],
         "j": [
          3,
          4,
          1,
          2,
          5,
          6,
          5,
          2,
          0,
          1,
          6,
          3
         ],
         "k": [
          0,
          7,
          2,
          3,
          6,
          7,
          1,
          1,
          5,
          5,
          7,
          6
         ],
         "lighting": {
          "ambient": 0.4,
          "diffuse": 0.6,
          "fresnel": 0.1,
          "roughness": 0.2,
          "specular": 0.2
         },
         "lightposition": {
          "x": 100,
          "y": 100,
          "z": 1000
         },
         "name": "Bin 1 Item 9",
         "opacity": 1,
         "showlegend": true,
         "type": "mesh3d",
         "x": [
          0.3,
          0.5,
          0.5,
          0.3,
          0.3,
          0.5,
          0.5,
          0.3
         ],
         "y": [
          0.7,
          0.7,
          0.85,
          0.85,
          0.7,
          0.7,
          0.85,
          0.85
         ],
         "z": [
          0,
          0,
          0,
          0,
          0.15,
          0.15,
          0.15,
          0.15
         ]
        },
        {
         "hoverinfo": "none",
         "line": {
          "color": "black",
          "width": 2
         },
         "mode": "lines",
         "showlegend": false,
         "type": "scatter3d",
         "x": [
          0.3,
          0.5
         ],
         "y": [
          0.7,
          0.7
         ],
         "z": [
          0,
          0
         ]
        },
        {
         "hoverinfo": "none",
         "line": {
          "color": "black",
          "width": 2
         },
         "mode": "lines",
         "showlegend": false,
         "type": "scatter3d",
         "x": [
          0.5,
          0.5
         ],
         "y": [
          0.7,
          0.85
         ],
         "z": [
          0,
          0
         ]
        },
        {
         "hoverinfo": "none",
         "line": {
          "color": "black",
          "width": 2
         },
         "mode": "lines",
         "showlegend": false,
         "type": "scatter3d",
         "x": [
          0.5,
          0.3
         ],
         "y": [
          0.85,
          0.85
         ],
         "z": [
          0,
          0
         ]
        },
        {
         "hoverinfo": "none",
         "line": {
          "color": "black",
          "width": 2
         },
         "mode": "lines",
         "showlegend": false,
         "type": "scatter3d",
         "x": [
          0.3,
          0.3
         ],
         "y": [
          0.85,
          0.7
         ],
         "z": [
          0,
          0
         ]
        },
        {
         "hoverinfo": "none",
         "line": {
          "color": "black",
          "width": 2
         },
         "mode": "lines",
         "showlegend": false,
         "type": "scatter3d",
         "x": [
          0.3,
          0.5
         ],
         "y": [
          0.7,
          0.7
         ],
         "z": [
          0.15,
          0.15
         ]
        },
        {
         "hoverinfo": "none",
         "line": {
          "color": "black",
          "width": 2
         },
         "mode": "lines",
         "showlegend": false,
         "type": "scatter3d",
         "x": [
          0.5,
          0.5
         ],
         "y": [
          0.7,
          0.85
         ],
         "z": [
          0.15,
          0.15
         ]
        },
        {
         "hoverinfo": "none",
         "line": {
          "color": "black",
          "width": 2
         },
         "mode": "lines",
         "showlegend": false,
         "type": "scatter3d",
         "x": [
          0.5,
          0.3
         ],
         "y": [
          0.85,
          0.85
         ],
         "z": [
          0.15,
          0.15
         ]
        },
        {
         "hoverinfo": "none",
         "line": {
          "color": "black",
          "width": 2
         },
         "mode": "lines",
         "showlegend": false,
         "type": "scatter3d",
         "x": [
          0.3,
          0.3
         ],
         "y": [
          0.85,
          0.7
         ],
         "z": [
          0.15,
          0.15
         ]
        },
        {
         "hoverinfo": "none",
         "line": {
          "color": "black",
          "width": 2
         },
         "mode": "lines",
         "showlegend": false,
         "type": "scatter3d",
         "x": [
          0.3,
          0.3
         ],
         "y": [
          0.7,
          0.7
         ],
         "z": [
          0,
          0.15
         ]
        },
        {
         "hoverinfo": "none",
         "line": {
          "color": "black",
          "width": 2
         },
         "mode": "lines",
         "showlegend": false,
         "type": "scatter3d",
         "x": [
          0.5,
          0.5
         ],
         "y": [
          0.7,
          0.7
         ],
         "z": [
          0,
          0.15
         ]
        },
        {
         "hoverinfo": "none",
         "line": {
          "color": "black",
          "width": 2
         },
         "mode": "lines",
         "showlegend": false,
         "type": "scatter3d",
         "x": [
          0.5,
          0.5
         ],
         "y": [
          0.85,
          0.85
         ],
         "z": [
          0,
          0.15
         ]
        },
        {
         "hoverinfo": "none",
         "line": {
          "color": "black",
          "width": 2
         },
         "mode": "lines",
         "showlegend": false,
         "type": "scatter3d",
         "x": [
          0.3,
          0.3
         ],
         "y": [
          0.85,
          0.85
         ],
         "z": [
          0,
          0.15
         ]
        },
        {
         "color": "#3182bd",
         "flatshading": true,
         "hoverinfo": "name",
         "i": [
          7,
          0,
          0,
          0,
          4,
          4,
          6,
          6,
          4,
          0,
          3,
          2
         ],
         "j": [
          3,
          4,
          1,
          2,
          5,
          6,
          5,
          2,
          0,
          1,
          6,
          3
         ],
         "k": [
          0,
          7,
          2,
          3,
          6,
          7,
          1,
          1,
          5,
          5,
          7,
          6
         ],
         "lighting": {
          "ambient": 0.4,
          "diffuse": 0.6,
          "fresnel": 0.1,
          "roughness": 0.2,
          "specular": 0.2
         },
         "lightposition": {
          "x": 100,
          "y": 100,
          "z": 1000
         },
         "name": "Bin 1 Item 10",
         "opacity": 1,
         "showlegend": true,
         "type": "mesh3d",
         "x": [
          0.8500000000000001,
          1,
          1,
          0.8500000000000001,
          0.8500000000000001,
          1,
          1,
          0.8500000000000001
         ],
         "y": [
          0,
          0,
          0.25,
          0.25,
          0,
          0,
          0.25,
          0.25
         ],
         "z": [
          0.1,
          0.1,
          0.1,
          0.1,
          0.15000000000000002,
          0.15000000000000002,
          0.15000000000000002,
          0.15000000000000002
         ]
        },
        {
         "hoverinfo": "none",
         "line": {
          "color": "black",
          "width": 2
         },
         "mode": "lines",
         "showlegend": false,
         "type": "scatter3d",
         "x": [
          0.8500000000000001,
          1
         ],
         "y": [
          0,
          0
         ],
         "z": [
          0.1,
          0.1
         ]
        },
        {
         "hoverinfo": "none",
         "line": {
          "color": "black",
          "width": 2
         },
         "mode": "lines",
         "showlegend": false,
         "type": "scatter3d",
         "x": [
          1,
          1
         ],
         "y": [
          0,
          0.25
         ],
         "z": [
          0.1,
          0.1
         ]
        },
        {
         "hoverinfo": "none",
         "line": {
          "color": "black",
          "width": 2
         },
         "mode": "lines",
         "showlegend": false,
         "type": "scatter3d",
         "x": [
          1,
          0.8500000000000001
         ],
         "y": [
          0.25,
          0.25
         ],
         "z": [
          0.1,
          0.1
         ]
        },
        {
         "hoverinfo": "none",
         "line": {
          "color": "black",
          "width": 2
         },
         "mode": "lines",
         "showlegend": false,
         "type": "scatter3d",
         "x": [
          0.8500000000000001,
          0.8500000000000001
         ],
         "y": [
          0.25,
          0
         ],
         "z": [
          0.1,
          0.1
         ]
        },
        {
         "hoverinfo": "none",
         "line": {
          "color": "black",
          "width": 2
         },
         "mode": "lines",
         "showlegend": false,
         "type": "scatter3d",
         "x": [
          0.8500000000000001,
          1
         ],
         "y": [
          0,
          0
         ],
         "z": [
          0.15000000000000002,
          0.15000000000000002
         ]
        },
        {
         "hoverinfo": "none",
         "line": {
          "color": "black",
          "width": 2
         },
         "mode": "lines",
         "showlegend": false,
         "type": "scatter3d",
         "x": [
          1,
          1
         ],
         "y": [
          0,
          0.25
         ],
         "z": [
          0.15000000000000002,
          0.15000000000000002
         ]
        },
        {
         "hoverinfo": "none",
         "line": {
          "color": "black",
          "width": 2
         },
         "mode": "lines",
         "showlegend": false,
         "type": "scatter3d",
         "x": [
          1,
          0.8500000000000001
         ],
         "y": [
          0.25,
          0.25
         ],
         "z": [
          0.15000000000000002,
          0.15000000000000002
         ]
        },
        {
         "hoverinfo": "none",
         "line": {
          "color": "black",
          "width": 2
         },
         "mode": "lines",
         "showlegend": false,
         "type": "scatter3d",
         "x": [
          0.8500000000000001,
          0.8500000000000001
         ],
         "y": [
          0.25,
          0
         ],
         "z": [
          0.15000000000000002,
          0.15000000000000002
         ]
        },
        {
         "hoverinfo": "none",
         "line": {
          "color": "black",
          "width": 2
         },
         "mode": "lines",
         "showlegend": false,
         "type": "scatter3d",
         "x": [
          0.8500000000000001,
          0.8500000000000001
         ],
         "y": [
          0,
          0
         ],
         "z": [
          0.1,
          0.15000000000000002
         ]
        },
        {
         "hoverinfo": "none",
         "line": {
          "color": "black",
          "width": 2
         },
         "mode": "lines",
         "showlegend": false,
         "type": "scatter3d",
         "x": [
          1,
          1
         ],
         "y": [
          0,
          0
         ],
         "z": [
          0.1,
          0.15000000000000002
         ]
        },
        {
         "hoverinfo": "none",
         "line": {
          "color": "black",
          "width": 2
         },
         "mode": "lines",
         "showlegend": false,
         "type": "scatter3d",
         "x": [
          1,
          1
         ],
         "y": [
          0.25,
          0.25
         ],
         "z": [
          0.1,
          0.15000000000000002
         ]
        },
        {
         "hoverinfo": "none",
         "line": {
          "color": "black",
          "width": 2
         },
         "mode": "lines",
         "showlegend": false,
         "type": "scatter3d",
         "x": [
          0.8500000000000001,
          0.8500000000000001
         ],
         "y": [
          0.25,
          0.25
         ],
         "z": [
          0.1,
          0.15000000000000002
         ]
        },
        {
         "color": "#6baed6",
         "flatshading": true,
         "hoverinfo": "name",
         "i": [
          7,
          0,
          0,
          0,
          4,
          4,
          6,
          6,
          4,
          0,
          3,
          2
         ],
         "j": [
          3,
          4,
          1,
          2,
          5,
          6,
          5,
          2,
          0,
          1,
          6,
          3
         ],
         "k": [
          0,
          7,
          2,
          3,
          6,
          7,
          1,
          1,
          5,
          5,
          7,
          6
         ],
         "lighting": {
          "ambient": 0.4,
          "diffuse": 0.6,
          "fresnel": 0.1,
          "roughness": 0.2,
          "specular": 0.2
         },
         "lightposition": {
          "x": 100,
          "y": 100,
          "z": 1000
         },
         "name": "Bin 1 Item 11",
         "opacity": 1,
         "showlegend": true,
         "type": "mesh3d",
         "x": [
          0.3,
          0.44999999999999996,
          0.44999999999999996,
          0.3,
          0.3,
          0.44999999999999996,
          0.44999999999999996,
          0.3
         ],
         "y": [
          0.85,
          0.85,
          1,
          1,
          0.85,
          0.85,
          1,
          1
         ],
         "z": [
          0,
          0,
          0,
          0,
          0.05,
          0.05,
          0.05,
          0.05
         ]
        },
        {
         "hoverinfo": "none",
         "line": {
          "color": "black",
          "width": 2
         },
         "mode": "lines",
         "showlegend": false,
         "type": "scatter3d",
         "x": [
          0.3,
          0.44999999999999996
         ],
         "y": [
          0.85,
          0.85
         ],
         "z": [
          0,
          0
         ]
        },
        {
         "hoverinfo": "none",
         "line": {
          "color": "black",
          "width": 2
         },
         "mode": "lines",
         "showlegend": false,
         "type": "scatter3d",
         "x": [
          0.44999999999999996,
          0.44999999999999996
         ],
         "y": [
          0.85,
          1
         ],
         "z": [
          0,
          0
         ]
        },
        {
         "hoverinfo": "none",
         "line": {
          "color": "black",
          "width": 2
         },
         "mode": "lines",
         "showlegend": false,
         "type": "scatter3d",
         "x": [
          0.44999999999999996,
          0.3
         ],
         "y": [
          1,
          1
         ],
         "z": [
          0,
          0
         ]
        },
        {
         "hoverinfo": "none",
         "line": {
          "color": "black",
          "width": 2
         },
         "mode": "lines",
         "showlegend": false,
         "type": "scatter3d",
         "x": [
          0.3,
          0.3
         ],
         "y": [
          1,
          0.85
         ],
         "z": [
          0,
          0
         ]
        },
        {
         "hoverinfo": "none",
         "line": {
          "color": "black",
          "width": 2
         },
         "mode": "lines",
         "showlegend": false,
         "type": "scatter3d",
         "x": [
          0.3,
          0.44999999999999996
         ],
         "y": [
          0.85,
          0.85
         ],
         "z": [
          0.05,
          0.05
         ]
        },
        {
         "hoverinfo": "none",
         "line": {
          "color": "black",
          "width": 2
         },
         "mode": "lines",
         "showlegend": false,
         "type": "scatter3d",
         "x": [
          0.44999999999999996,
          0.44999999999999996
         ],
         "y": [
          0.85,
          1
         ],
         "z": [
          0.05,
          0.05
         ]
        },
        {
         "hoverinfo": "none",
         "line": {
          "color": "black",
          "width": 2
         },
         "mode": "lines",
         "showlegend": false,
         "type": "scatter3d",
         "x": [
          0.44999999999999996,
          0.3
         ],
         "y": [
          1,
          1
         ],
         "z": [
          0.05,
          0.05
         ]
        },
        {
         "hoverinfo": "none",
         "line": {
          "color": "black",
          "width": 2
         },
         "mode": "lines",
         "showlegend": false,
         "type": "scatter3d",
         "x": [
          0.3,
          0.3
         ],
         "y": [
          1,
          0.85
         ],
         "z": [
          0.05,
          0.05
         ]
        },
        {
         "hoverinfo": "none",
         "line": {
          "color": "black",
          "width": 2
         },
         "mode": "lines",
         "showlegend": false,
         "type": "scatter3d",
         "x": [
          0.3,
          0.3
         ],
         "y": [
          0.85,
          0.85
         ],
         "z": [
          0,
          0.05
         ]
        },
        {
         "hoverinfo": "none",
         "line": {
          "color": "black",
          "width": 2
         },
         "mode": "lines",
         "showlegend": false,
         "type": "scatter3d",
         "x": [
          0.44999999999999996,
          0.44999999999999996
         ],
         "y": [
          0.85,
          0.85
         ],
         "z": [
          0,
          0.05
         ]
        },
        {
         "hoverinfo": "none",
         "line": {
          "color": "black",
          "width": 2
         },
         "mode": "lines",
         "showlegend": false,
         "type": "scatter3d",
         "x": [
          0.44999999999999996,
          0.44999999999999996
         ],
         "y": [
          1,
          1
         ],
         "z": [
          0,
          0.05
         ]
        },
        {
         "hoverinfo": "none",
         "line": {
          "color": "black",
          "width": 2
         },
         "mode": "lines",
         "showlegend": false,
         "type": "scatter3d",
         "x": [
          0.3,
          0.3
         ],
         "y": [
          1,
          1
         ],
         "z": [
          0,
          0.05
         ]
        },
        {
         "color": "lightgray",
         "flatshading": true,
         "i": [
          7,
          0,
          0,
          0,
          4,
          4,
          6,
          6,
          4,
          0,
          3,
          2
         ],
         "j": [
          3,
          4,
          1,
          2,
          5,
          6,
          5,
          2,
          0,
          1,
          6,
          3
         ],
         "k": [
          0,
          7,
          2,
          3,
          6,
          7,
          1,
          1,
          5,
          5,
          7,
          6
         ],
         "name": "Bin 2 Container",
         "opacity": 0.2,
         "showlegend": true,
         "type": "mesh3d",
         "x": [
          0,
          1,
          1,
          0,
          0,
          1,
          1,
          0
         ],
         "y": [
          0,
          0,
          1,
          1,
          0,
          0,
          1,
          1
         ],
         "z": [
          0,
          0,
          0,
          0,
          1,
          1,
          1,
          1
         ]
        },
        {
         "line": {
          "color": "black",
          "width": 2
         },
         "mode": "lines",
         "showlegend": false,
         "type": "scatter3d",
         "x": [
          0,
          1
         ],
         "y": [
          0,
          0
         ],
         "z": [
          0,
          0
         ]
        },
        {
         "line": {
          "color": "black",
          "width": 2
         },
         "mode": "lines",
         "showlegend": false,
         "type": "scatter3d",
         "x": [
          1,
          1
         ],
         "y": [
          0,
          1
         ],
         "z": [
          0,
          0
         ]
        },
        {
         "line": {
          "color": "black",
          "width": 2
         },
         "mode": "lines",
         "showlegend": false,
         "type": "scatter3d",
         "x": [
          1,
          0
         ],
         "y": [
          1,
          1
         ],
         "z": [
          0,
          0
         ]
        },
        {
         "line": {
          "color": "black",
          "width": 2
         },
         "mode": "lines",
         "showlegend": false,
         "type": "scatter3d",
         "x": [
          0,
          0
         ],
         "y": [
          1,
          0
         ],
         "z": [
          0,
          0
         ]
        },
        {
         "line": {
          "color": "black",
          "width": 2
         },
         "mode": "lines",
         "showlegend": false,
         "type": "scatter3d",
         "x": [
          0,
          1
         ],
         "y": [
          0,
          0
         ],
         "z": [
          1,
          1
         ]
        },
        {
         "line": {
          "color": "black",
          "width": 2
         },
         "mode": "lines",
         "showlegend": false,
         "type": "scatter3d",
         "x": [
          1,
          1
         ],
         "y": [
          0,
          1
         ],
         "z": [
          1,
          1
         ]
        },
        {
         "line": {
          "color": "black",
          "width": 2
         },
         "mode": "lines",
         "showlegend": false,
         "type": "scatter3d",
         "x": [
          1,
          0
         ],
         "y": [
          1,
          1
         ],
         "z": [
          1,
          1
         ]
        },
        {
         "line": {
          "color": "black",
          "width": 2
         },
         "mode": "lines",
         "showlegend": false,
         "type": "scatter3d",
         "x": [
          0,
          0
         ],
         "y": [
          1,
          0
         ],
         "z": [
          1,
          1
         ]
        },
        {
         "line": {
          "color": "black",
          "width": 2
         },
         "mode": "lines",
         "showlegend": false,
         "type": "scatter3d",
         "x": [
          0,
          0
         ],
         "y": [
          0,
          0
         ],
         "z": [
          0,
          1
         ]
        },
        {
         "line": {
          "color": "black",
          "width": 2
         },
         "mode": "lines",
         "showlegend": false,
         "type": "scatter3d",
         "x": [
          1,
          1
         ],
         "y": [
          0,
          0
         ],
         "z": [
          0,
          1
         ]
        },
        {
         "line": {
          "color": "black",
          "width": 2
         },
         "mode": "lines",
         "showlegend": false,
         "type": "scatter3d",
         "x": [
          1,
          1
         ],
         "y": [
          1,
          1
         ],
         "z": [
          0,
          1
         ]
        },
        {
         "line": {
          "color": "black",
          "width": 2
         },
         "mode": "lines",
         "showlegend": false,
         "type": "scatter3d",
         "x": [
          0,
          0
         ],
         "y": [
          1,
          1
         ],
         "z": [
          0,
          1
         ]
        },
        {
         "color": "#3182bd",
         "flatshading": true,
         "hoverinfo": "name",
         "i": [
          7,
          0,
          0,
          0,
          4,
          4,
          6,
          6,
          4,
          0,
          3,
          2
         ],
         "j": [
          3,
          4,
          1,
          2,
          5,
          6,
          5,
          2,
          0,
          1,
          6,
          3
         ],
         "k": [
          0,
          7,
          2,
          3,
          6,
          7,
          1,
          1,
          5,
          5,
          7,
          6
         ],
         "lighting": {
          "ambient": 0.4,
          "diffuse": 0.6,
          "fresnel": 0.1,
          "roughness": 0.2,
          "specular": 0.2
         },
         "lightposition": {
          "x": 100,
          "y": 100,
          "z": 1000
         },
         "name": "Bin 2 Item 1",
         "opacity": 1,
         "showlegend": true,
         "type": "mesh3d",
         "x": [
          0,
          0.4,
          0.4,
          0,
          0,
          0.4,
          0.4,
          0
         ],
         "y": [
          0,
          0,
          0.3,
          0.3,
          0,
          0,
          0.3,
          0.3
         ],
         "z": [
          0,
          0,
          0,
          0,
          0.05,
          0.05,
          0.05,
          0.05
         ]
        },
        {
         "hoverinfo": "none",
         "line": {
          "color": "black",
          "width": 2
         },
         "mode": "lines",
         "showlegend": false,
         "type": "scatter3d",
         "x": [
          0,
          0.4
         ],
         "y": [
          0,
          0
         ],
         "z": [
          0,
          0
         ]
        },
        {
         "hoverinfo": "none",
         "line": {
          "color": "black",
          "width": 2
         },
         "mode": "lines",
         "showlegend": false,
         "type": "scatter3d",
         "x": [
          0.4,
          0.4
         ],
         "y": [
          0,
          0.3
         ],
         "z": [
          0,
          0
         ]
        },
        {
         "hoverinfo": "none",
         "line": {
          "color": "black",
          "width": 2
         },
         "mode": "lines",
         "showlegend": false,
         "type": "scatter3d",
         "x": [
          0.4,
          0
         ],
         "y": [
          0.3,
          0.3
         ],
         "z": [
          0,
          0
         ]
        },
        {
         "hoverinfo": "none",
         "line": {
          "color": "black",
          "width": 2
         },
         "mode": "lines",
         "showlegend": false,
         "type": "scatter3d",
         "x": [
          0,
          0
         ],
         "y": [
          0.3,
          0
         ],
         "z": [
          0,
          0
         ]
        },
        {
         "hoverinfo": "none",
         "line": {
          "color": "black",
          "width": 2
         },
         "mode": "lines",
         "showlegend": false,
         "type": "scatter3d",
         "x": [
          0,
          0.4
         ],
         "y": [
          0,
          0
         ],
         "z": [
          0.05,
          0.05
         ]
        },
        {
         "hoverinfo": "none",
         "line": {
          "color": "black",
          "width": 2
         },
         "mode": "lines",
         "showlegend": false,
         "type": "scatter3d",
         "x": [
          0.4,
          0.4
         ],
         "y": [
          0,
          0.3
         ],
         "z": [
          0.05,
          0.05
         ]
        },
        {
         "hoverinfo": "none",
         "line": {
          "color": "black",
          "width": 2
         },
         "mode": "lines",
         "showlegend": false,
         "type": "scatter3d",
         "x": [
          0.4,
          0
         ],
         "y": [
          0.3,
          0.3
         ],
         "z": [
          0.05,
          0.05
         ]
        },
        {
         "hoverinfo": "none",
         "line": {
          "color": "black",
          "width": 2
         },
         "mode": "lines",
         "showlegend": false,
         "type": "scatter3d",
         "x": [
          0,
          0
         ],
         "y": [
          0.3,
          0
         ],
         "z": [
          0.05,
          0.05
         ]
        },
        {
         "hoverinfo": "none",
         "line": {
          "color": "black",
          "width": 2
         },
         "mode": "lines",
         "showlegend": false,
         "type": "scatter3d",
         "x": [
          0,
          0
         ],
         "y": [
          0,
          0
         ],
         "z": [
          0,
          0.05
         ]
        },
        {
         "hoverinfo": "none",
         "line": {
          "color": "black",
          "width": 2
         },
         "mode": "lines",
         "showlegend": false,
         "type": "scatter3d",
         "x": [
          0.4,
          0.4
         ],
         "y": [
          0,
          0
         ],
         "z": [
          0,
          0.05
         ]
        },
        {
         "hoverinfo": "none",
         "line": {
          "color": "black",
          "width": 2
         },
         "mode": "lines",
         "showlegend": false,
         "type": "scatter3d",
         "x": [
          0.4,
          0.4
         ],
         "y": [
          0.3,
          0.3
         ],
         "z": [
          0,
          0.05
         ]
        },
        {
         "hoverinfo": "none",
         "line": {
          "color": "black",
          "width": 2
         },
         "mode": "lines",
         "showlegend": false,
         "type": "scatter3d",
         "x": [
          0,
          0
         ],
         "y": [
          0.3,
          0.3
         ],
         "z": [
          0,
          0.05
         ]
        },
        {
         "color": "#6baed6",
         "flatshading": true,
         "hoverinfo": "name",
         "i": [
          7,
          0,
          0,
          0,
          4,
          4,
          6,
          6,
          4,
          0,
          3,
          2
         ],
         "j": [
          3,
          4,
          1,
          2,
          5,
          6,
          5,
          2,
          0,
          1,
          6,
          3
         ],
         "k": [
          0,
          7,
          2,
          3,
          6,
          7,
          1,
          1,
          5,
          5,
          7,
          6
         ],
         "lighting": {
          "ambient": 0.4,
          "diffuse": 0.6,
          "fresnel": 0.1,
          "roughness": 0.2,
          "specular": 0.2
         },
         "lightposition": {
          "x": 100,
          "y": 100,
          "z": 1000
         },
         "name": "Bin 2 Item 2",
         "opacity": 1,
         "showlegend": true,
         "type": "mesh3d",
         "x": [
          0.4,
          0.9,
          0.9,
          0.4,
          0.4,
          0.9,
          0.9,
          0.4
         ],
         "y": [
          0,
          0,
          0.15,
          0.15,
          0,
          0,
          0.15,
          0.15
         ],
         "z": [
          0,
          0,
          0,
          0,
          0.05,
          0.05,
          0.05,
          0.05
         ]
        },
        {
         "hoverinfo": "none",
         "line": {
          "color": "black",
          "width": 2
         },
         "mode": "lines",
         "showlegend": false,
         "type": "scatter3d",
         "x": [
          0.4,
          0.9
         ],
         "y": [
          0,
          0
         ],
         "z": [
          0,
          0
         ]
        },
        {
         "hoverinfo": "none",
         "line": {
          "color": "black",
          "width": 2
         },
         "mode": "lines",
         "showlegend": false,
         "type": "scatter3d",
         "x": [
          0.9,
          0.9
         ],
         "y": [
          0,
          0.15
         ],
         "z": [
          0,
          0
         ]
        },
        {
         "hoverinfo": "none",
         "line": {
          "color": "black",
          "width": 2
         },
         "mode": "lines",
         "showlegend": false,
         "type": "scatter3d",
         "x": [
          0.9,
          0.4
         ],
         "y": [
          0.15,
          0.15
         ],
         "z": [
          0,
          0
         ]
        },
        {
         "hoverinfo": "none",
         "line": {
          "color": "black",
          "width": 2
         },
         "mode": "lines",
         "showlegend": false,
         "type": "scatter3d",
         "x": [
          0.4,
          0.4
         ],
         "y": [
          0.15,
          0
         ],
         "z": [
          0,
          0
         ]
        },
        {
         "hoverinfo": "none",
         "line": {
          "color": "black",
          "width": 2
         },
         "mode": "lines",
         "showlegend": false,
         "type": "scatter3d",
         "x": [
          0.4,
          0.9
         ],
         "y": [
          0,
          0
         ],
         "z": [
          0.05,
          0.05
         ]
        },
        {
         "hoverinfo": "none",
         "line": {
          "color": "black",
          "width": 2
         },
         "mode": "lines",
         "showlegend": false,
         "type": "scatter3d",
         "x": [
          0.9,
          0.9
         ],
         "y": [
          0,
          0.15
         ],
         "z": [
          0.05,
          0.05
         ]
        },
        {
         "hoverinfo": "none",
         "line": {
          "color": "black",
          "width": 2
         },
         "mode": "lines",
         "showlegend": false,
         "type": "scatter3d",
         "x": [
          0.9,
          0.4
         ],
         "y": [
          0.15,
          0.15
         ],
         "z": [
          0.05,
          0.05
         ]
        },
        {
         "hoverinfo": "none",
         "line": {
          "color": "black",
          "width": 2
         },
         "mode": "lines",
         "showlegend": false,
         "type": "scatter3d",
         "x": [
          0.4,
          0.4
         ],
         "y": [
          0.15,
          0
         ],
         "z": [
          0.05,
          0.05
         ]
        },
        {
         "hoverinfo": "none",
         "line": {
          "color": "black",
          "width": 2
         },
         "mode": "lines",
         "showlegend": false,
         "type": "scatter3d",
         "x": [
          0.4,
          0.4
         ],
         "y": [
          0,
          0
         ],
         "z": [
          0,
          0.05
         ]
        },
        {
         "hoverinfo": "none",
         "line": {
          "color": "black",
          "width": 2
         },
         "mode": "lines",
         "showlegend": false,
         "type": "scatter3d",
         "x": [
          0.9,
          0.9
         ],
         "y": [
          0,
          0
         ],
         "z": [
          0,
          0.05
         ]
        },
        {
         "hoverinfo": "none",
         "line": {
          "color": "black",
          "width": 2
         },
         "mode": "lines",
         "showlegend": false,
         "type": "scatter3d",
         "x": [
          0.9,
          0.9
         ],
         "y": [
          0.15,
          0.15
         ],
         "z": [
          0,
          0.05
         ]
        },
        {
         "hoverinfo": "none",
         "line": {
          "color": "black",
          "width": 2
         },
         "mode": "lines",
         "showlegend": false,
         "type": "scatter3d",
         "x": [
          0.4,
          0.4
         ],
         "y": [
          0.15,
          0.15
         ],
         "z": [
          0,
          0.05
         ]
        },
        {
         "color": "#9ecae1",
         "flatshading": true,
         "hoverinfo": "name",
         "i": [
          7,
          0,
          0,
          0,
          4,
          4,
          6,
          6,
          4,
          0,
          3,
          2
         ],
         "j": [
          3,
          4,
          1,
          2,
          5,
          6,
          5,
          2,
          0,
          1,
          6,
          3
         ],
         "k": [
          0,
          7,
          2,
          3,
          6,
          7,
          1,
          1,
          5,
          5,
          7,
          6
         ],
         "lighting": {
          "ambient": 0.4,
          "diffuse": 0.6,
          "fresnel": 0.1,
          "roughness": 0.2,
          "specular": 0.2
         },
         "lightposition": {
          "x": 100,
          "y": 100,
          "z": 1000
         },
         "name": "Bin 2 Item 3",
         "opacity": 1,
         "showlegend": true,
         "type": "mesh3d",
         "x": [
          0,
          0.2,
          0.2,
          0,
          0,
          0.2,
          0.2,
          0
         ],
         "y": [
          0,
          0,
          0.25,
          0.25,
          0,
          0,
          0.25,
          0.25
         ],
         "z": [
          0.05,
          0.05,
          0.05,
          0.05,
          0.1,
          0.1,
          0.1,
          0.1
         ]
        },
        {
         "hoverinfo": "none",
         "line": {
          "color": "black",
          "width": 2
         },
         "mode": "lines",
         "showlegend": false,
         "type": "scatter3d",
         "x": [
          0,
          0.2
         ],
         "y": [
          0,
          0
         ],
         "z": [
          0.05,
          0.05
         ]
        },
        {
         "hoverinfo": "none",
         "line": {
          "color": "black",
          "width": 2
         },
         "mode": "lines",
         "showlegend": false,
         "type": "scatter3d",
         "x": [
          0.2,
          0.2
         ],
         "y": [
          0,
          0.25
         ],
         "z": [
          0.05,
          0.05
         ]
        },
        {
         "hoverinfo": "none",
         "line": {
          "color": "black",
          "width": 2
         },
         "mode": "lines",
         "showlegend": false,
         "type": "scatter3d",
         "x": [
          0.2,
          0
         ],
         "y": [
          0.25,
          0.25
         ],
         "z": [
          0.05,
          0.05
         ]
        },
        {
         "hoverinfo": "none",
         "line": {
          "color": "black",
          "width": 2
         },
         "mode": "lines",
         "showlegend": false,
         "type": "scatter3d",
         "x": [
          0,
          0
         ],
         "y": [
          0.25,
          0
         ],
         "z": [
          0.05,
          0.05
         ]
        },
        {
         "hoverinfo": "none",
         "line": {
          "color": "black",
          "width": 2
         },
         "mode": "lines",
         "showlegend": false,
         "type": "scatter3d",
         "x": [
          0,
          0.2
         ],
         "y": [
          0,
          0
         ],
         "z": [
          0.1,
          0.1
         ]
        },
        {
         "hoverinfo": "none",
         "line": {
          "color": "black",
          "width": 2
         },
         "mode": "lines",
         "showlegend": false,
         "type": "scatter3d",
         "x": [
          0.2,
          0.2
         ],
         "y": [
          0,
          0.25
         ],
         "z": [
          0.1,
          0.1
         ]
        },
        {
         "hoverinfo": "none",
         "line": {
          "color": "black",
          "width": 2
         },
         "mode": "lines",
         "showlegend": false,
         "type": "scatter3d",
         "x": [
          0.2,
          0
         ],
         "y": [
          0.25,
          0.25
         ],
         "z": [
          0.1,
          0.1
         ]
        },
        {
         "hoverinfo": "none",
         "line": {
          "color": "black",
          "width": 2
         },
         "mode": "lines",
         "showlegend": false,
         "type": "scatter3d",
         "x": [
          0,
          0
         ],
         "y": [
          0.25,
          0
         ],
         "z": [
          0.1,
          0.1
         ]
        },
        {
         "hoverinfo": "none",
         "line": {
          "color": "black",
          "width": 2
         },
         "mode": "lines",
         "showlegend": false,
         "type": "scatter3d",
         "x": [
          0,
          0
         ],
         "y": [
          0,
          0
         ],
         "z": [
          0.05,
          0.1
         ]
        },
        {
         "hoverinfo": "none",
         "line": {
          "color": "black",
          "width": 2
         },
         "mode": "lines",
         "showlegend": false,
         "type": "scatter3d",
         "x": [
          0.2,
          0.2
         ],
         "y": [
          0,
          0
         ],
         "z": [
          0.05,
          0.1
         ]
        },
        {
         "hoverinfo": "none",
         "line": {
          "color": "black",
          "width": 2
         },
         "mode": "lines",
         "showlegend": false,
         "type": "scatter3d",
         "x": [
          0.2,
          0.2
         ],
         "y": [
          0.25,
          0.25
         ],
         "z": [
          0.05,
          0.1
         ]
        },
        {
         "hoverinfo": "none",
         "line": {
          "color": "black",
          "width": 2
         },
         "mode": "lines",
         "showlegend": false,
         "type": "scatter3d",
         "x": [
          0,
          0
         ],
         "y": [
          0.25,
          0.25
         ],
         "z": [
          0.05,
          0.1
         ]
        }
       ],
       "layout": {
        "hovermode": "closest",
        "legend": {
         "title": {
          "text": "Items"
         }
        },
        "margin": {
         "b": 0,
         "l": 0,
         "r": 0,
         "t": 40
        },
        "scene": {
         "aspectmode": "cube",
         "camera": {
          "eye": {
           "x": 1.8,
           "y": 1.8,
           "z": 0.8
          },
          "projection": {
           "type": "orthographic"
          },
          "up": {
           "x": 0,
           "y": 0,
           "z": 1
          }
         },
         "xaxis": {
          "range": [
           0,
           1.2
          ],
          "title": {
           "text": "X"
          }
         },
         "yaxis": {
          "range": [
           0,
           1.2
          ],
          "title": {
           "text": "Y"
          }
         },
         "zaxis": {
          "range": [
           0,
           1.2
          ],
          "title": {
           "text": "Z"
          }
         }
        },
        "template": {
         "data": {
          "bar": [
           {
            "error_x": {
             "color": "#2a3f5f"
            },
            "error_y": {
             "color": "#2a3f5f"
            },
            "marker": {
             "line": {
              "color": "#E5ECF6",
              "width": 0.5
             },
             "pattern": {
              "fillmode": "overlay",
              "size": 10,
              "solidity": 0.2
             }
            },
            "type": "bar"
           }
          ],
          "barpolar": [
           {
            "marker": {
             "line": {
              "color": "#E5ECF6",
              "width": 0.5
             },
             "pattern": {
              "fillmode": "overlay",
              "size": 10,
              "solidity": 0.2
             }
            },
            "type": "barpolar"
           }
          ],
          "carpet": [
           {
            "aaxis": {
             "endlinecolor": "#2a3f5f",
             "gridcolor": "white",
             "linecolor": "white",
             "minorgridcolor": "white",
             "startlinecolor": "#2a3f5f"
            },
            "baxis": {
             "endlinecolor": "#2a3f5f",
             "gridcolor": "white",
             "linecolor": "white",
             "minorgridcolor": "white",
             "startlinecolor": "#2a3f5f"
            },
            "type": "carpet"
           }
          ],
          "choropleth": [
           {
            "colorbar": {
             "outlinewidth": 0,
             "ticks": ""
            },
            "type": "choropleth"
           }
          ],
          "contour": [
           {
            "colorbar": {
             "outlinewidth": 0,
             "ticks": ""
            },
            "colorscale": [
             [
              0,
              "#0d0887"
             ],
             [
              0.1111111111111111,
              "#46039f"
             ],
             [
              0.2222222222222222,
              "#7201a8"
             ],
             [
              0.3333333333333333,
              "#9c179e"
             ],
             [
              0.4444444444444444,
              "#bd3786"
             ],
             [
              0.5555555555555556,
              "#d8576b"
             ],
             [
              0.6666666666666666,
              "#ed7953"
             ],
             [
              0.7777777777777778,
              "#fb9f3a"
             ],
             [
              0.8888888888888888,
              "#fdca26"
             ],
             [
              1,
              "#f0f921"
             ]
            ],
            "type": "contour"
           }
          ],
          "contourcarpet": [
           {
            "colorbar": {
             "outlinewidth": 0,
             "ticks": ""
            },
            "type": "contourcarpet"
           }
          ],
          "heatmap": [
           {
            "colorbar": {
             "outlinewidth": 0,
             "ticks": ""
            },
            "colorscale": [
             [
              0,
              "#0d0887"
             ],
             [
              0.1111111111111111,
              "#46039f"
             ],
             [
              0.2222222222222222,
              "#7201a8"
             ],
             [
              0.3333333333333333,
              "#9c179e"
             ],
             [
              0.4444444444444444,
              "#bd3786"
             ],
             [
              0.5555555555555556,
              "#d8576b"
             ],
             [
              0.6666666666666666,
              "#ed7953"
             ],
             [
              0.7777777777777778,
              "#fb9f3a"
             ],
             [
              0.8888888888888888,
              "#fdca26"
             ],
             [
              1,
              "#f0f921"
             ]
            ],
            "type": "heatmap"
           }
          ],
          "histogram": [
           {
            "marker": {
             "pattern": {
              "fillmode": "overlay",
              "size": 10,
              "solidity": 0.2
             }
            },
            "type": "histogram"
           }
          ],
          "histogram2d": [
           {
            "colorbar": {
             "outlinewidth": 0,
             "ticks": ""
            },
            "colorscale": [
             [
              0,
              "#0d0887"
             ],
             [
              0.1111111111111111,
              "#46039f"
             ],
             [
              0.2222222222222222,
              "#7201a8"
             ],
             [
              0.3333333333333333,
              "#9c179e"
             ],
             [
              0.4444444444444444,
              "#bd3786"
             ],
             [
              0.5555555555555556,
              "#d8576b"
             ],
             [
              0.6666666666666666,
              "#ed7953"
             ],
             [
              0.7777777777777778,
              "#fb9f3a"
             ],
             [
              0.8888888888888888,
              "#fdca26"
             ],
             [
              1,
              "#f0f921"
             ]
            ],
            "type": "histogram2d"
           }
          ],
          "histogram2dcontour": [
           {
            "colorbar": {
             "outlinewidth": 0,
             "ticks": ""
            },
            "colorscale": [
             [
              0,
              "#0d0887"
             ],
             [
              0.1111111111111111,
              "#46039f"
             ],
             [
              0.2222222222222222,
              "#7201a8"
             ],
             [
              0.3333333333333333,
              "#9c179e"
             ],
             [
              0.4444444444444444,
              "#bd3786"
             ],
             [
              0.5555555555555556,
              "#d8576b"
             ],
             [
              0.6666666666666666,
              "#ed7953"
             ],
             [
              0.7777777777777778,
              "#fb9f3a"
             ],
             [
              0.8888888888888888,
              "#fdca26"
             ],
             [
              1,
              "#f0f921"
             ]
            ],
            "type": "histogram2dcontour"
           }
          ],
          "mesh3d": [
           {
            "colorbar": {
             "outlinewidth": 0,
             "ticks": ""
            },
            "type": "mesh3d"
           }
          ],
          "parcoords": [
           {
            "line": {
             "colorbar": {
              "outlinewidth": 0,
              "ticks": ""
             }
            },
            "type": "parcoords"
           }
          ],
          "pie": [
           {
            "automargin": true,
            "type": "pie"
           }
          ],
          "scatter": [
           {
            "fillpattern": {
             "fillmode": "overlay",
             "size": 10,
             "solidity": 0.2
            },
            "type": "scatter"
           }
          ],
          "scatter3d": [
           {
            "line": {
             "colorbar": {
              "outlinewidth": 0,
              "ticks": ""
             }
            },
            "marker": {
             "colorbar": {
              "outlinewidth": 0,
              "ticks": ""
             }
            },
            "type": "scatter3d"
           }
          ],
          "scattercarpet": [
           {
            "marker": {
             "colorbar": {
              "outlinewidth": 0,
              "ticks": ""
             }
            },
            "type": "scattercarpet"
           }
          ],
          "scattergeo": [
           {
            "marker": {
             "colorbar": {
              "outlinewidth": 0,
              "ticks": ""
             }
            },
            "type": "scattergeo"
           }
          ],
          "scattergl": [
           {
            "marker": {
             "colorbar": {
              "outlinewidth": 0,
              "ticks": ""
             }
            },
            "type": "scattergl"
           }
          ],
          "scattermap": [
           {
            "marker": {
             "colorbar": {
              "outlinewidth": 0,
              "ticks": ""
             }
            },
            "type": "scattermap"
           }
          ],
          "scattermapbox": [
           {
            "marker": {
             "colorbar": {
              "outlinewidth": 0,
              "ticks": ""
             }
            },
            "type": "scattermapbox"
           }
          ],
          "scatterpolar": [
           {
            "marker": {
             "colorbar": {
              "outlinewidth": 0,
              "ticks": ""
             }
            },
            "type": "scatterpolar"
           }
          ],
          "scatterpolargl": [
           {
            "marker": {
             "colorbar": {
              "outlinewidth": 0,
              "ticks": ""
             }
            },
            "type": "scatterpolargl"
           }
          ],
          "scatterternary": [
           {
            "marker": {
             "colorbar": {
              "outlinewidth": 0,
              "ticks": ""
             }
            },
            "type": "scatterternary"
           }
          ],
          "surface": [
           {
            "colorbar": {
             "outlinewidth": 0,
             "ticks": ""
            },
            "colorscale": [
             [
              0,
              "#0d0887"
             ],
             [
              0.1111111111111111,
              "#46039f"
             ],
             [
              0.2222222222222222,
              "#7201a8"
             ],
             [
              0.3333333333333333,
              "#9c179e"
             ],
             [
              0.4444444444444444,
              "#bd3786"
             ],
             [
              0.5555555555555556,
              "#d8576b"
             ],
             [
              0.6666666666666666,
              "#ed7953"
             ],
             [
              0.7777777777777778,
              "#fb9f3a"
             ],
             [
              0.8888888888888888,
              "#fdca26"
             ],
             [
              1,
              "#f0f921"
             ]
            ],
            "type": "surface"
           }
          ],
          "table": [
           {
            "cells": {
             "fill": {
              "color": "#EBF0F8"
             },
             "line": {
              "color": "white"
             }
            },
            "header": {
             "fill": {
              "color": "#C8D4E3"
             },
             "line": {
              "color": "white"
             }
            },
            "type": "table"
           }
          ]
         },
         "layout": {
          "annotationdefaults": {
           "arrowcolor": "#2a3f5f",
           "arrowhead": 0,
           "arrowwidth": 1
          },
          "autotypenumbers": "strict",
          "coloraxis": {
           "colorbar": {
            "outlinewidth": 0,
            "ticks": ""
           }
          },
          "colorscale": {
           "diverging": [
            [
             0,
             "#8e0152"
            ],
            [
             0.1,
             "#c51b7d"
            ],
            [
             0.2,
             "#de77ae"
            ],
            [
             0.3,
             "#f1b6da"
            ],
            [
             0.4,
             "#fde0ef"
            ],
            [
             0.5,
             "#f7f7f7"
            ],
            [
             0.6,
             "#e6f5d0"
            ],
            [
             0.7,
             "#b8e186"
            ],
            [
             0.8,
             "#7fbc41"
            ],
            [
             0.9,
             "#4d9221"
            ],
            [
             1,
             "#276419"
            ]
           ],
           "sequential": [
            [
             0,
             "#0d0887"
            ],
            [
             0.1111111111111111,
             "#46039f"
            ],
            [
             0.2222222222222222,
             "#7201a8"
            ],
            [
             0.3333333333333333,
             "#9c179e"
            ],
            [
             0.4444444444444444,
             "#bd3786"
            ],
            [
             0.5555555555555556,
             "#d8576b"
            ],
            [
             0.6666666666666666,
             "#ed7953"
            ],
            [
             0.7777777777777778,
             "#fb9f3a"
            ],
            [
             0.8888888888888888,
             "#fdca26"
            ],
            [
             1,
             "#f0f921"
            ]
           ],
           "sequentialminus": [
            [
             0,
             "#0d0887"
            ],
            [
             0.1111111111111111,
             "#46039f"
            ],
            [
             0.2222222222222222,
             "#7201a8"
            ],
            [
             0.3333333333333333,
             "#9c179e"
            ],
            [
             0.4444444444444444,
             "#bd3786"
            ],
            [
             0.5555555555555556,
             "#d8576b"
            ],
            [
             0.6666666666666666,
             "#ed7953"
            ],
            [
             0.7777777777777778,
             "#fb9f3a"
            ],
            [
             0.8888888888888888,
             "#fdca26"
            ],
            [
             1,
             "#f0f921"
            ]
           ]
          },
          "colorway": [
           "#636efa",
           "#EF553B",
           "#00cc96",
           "#ab63fa",
           "#FFA15A",
           "#19d3f3",
           "#FF6692",
           "#B6E880",
           "#FF97FF",
           "#FECB52"
          ],
          "font": {
           "color": "#2a3f5f"
          },
          "geo": {
           "bgcolor": "white",
           "lakecolor": "white",
           "landcolor": "#E5ECF6",
           "showlakes": true,
           "showland": true,
           "subunitcolor": "white"
          },
          "hoverlabel": {
           "align": "left"
          },
          "hovermode": "closest",
          "mapbox": {
           "style": "light"
          },
          "paper_bgcolor": "white",
          "plot_bgcolor": "#E5ECF6",
          "polar": {
           "angularaxis": {
            "gridcolor": "white",
            "linecolor": "white",
            "ticks": ""
           },
           "bgcolor": "#E5ECF6",
           "radialaxis": {
            "gridcolor": "white",
            "linecolor": "white",
            "ticks": ""
           }
          },
          "scene": {
           "xaxis": {
            "backgroundcolor": "#E5ECF6",
            "gridcolor": "white",
            "gridwidth": 2,
            "linecolor": "white",
            "showbackground": true,
            "ticks": "",
            "zerolinecolor": "white"
           },
           "yaxis": {
            "backgroundcolor": "#E5ECF6",
            "gridcolor": "white",
            "gridwidth": 2,
            "linecolor": "white",
            "showbackground": true,
            "ticks": "",
            "zerolinecolor": "white"
           },
           "zaxis": {
            "backgroundcolor": "#E5ECF6",
            "gridcolor": "white",
            "gridwidth": 2,
            "linecolor": "white",
            "showbackground": true,
            "ticks": "",
            "zerolinecolor": "white"
           }
          },
          "shapedefaults": {
           "line": {
            "color": "#2a3f5f"
           }
          },
          "ternary": {
           "aaxis": {
            "gridcolor": "white",
            "linecolor": "white",
            "ticks": ""
           },
           "baxis": {
            "gridcolor": "white",
            "linecolor": "white",
            "ticks": ""
           },
           "bgcolor": "#E5ECF6",
           "caxis": {
            "gridcolor": "white",
            "linecolor": "white",
            "ticks": ""
           }
          },
          "title": {
           "x": 0.05
          },
          "xaxis": {
           "automargin": true,
           "gridcolor": "white",
           "linecolor": "white",
           "ticks": "",
           "title": {
            "standoff": 15
           },
           "zerolinecolor": "white",
           "zerolinewidth": 2
          },
          "yaxis": {
           "automargin": true,
           "gridcolor": "white",
           "linecolor": "white",
           "ticks": "",
           "title": {
            "standoff": 15
           },
           "zerolinecolor": "white",
           "zerolinewidth": 2
          }
         }
        },
        "title": {
         "text": "3D Bin Packing Visualization"
        }
       }
      }
     },
     "metadata": {},
     "output_type": "display_data"
    }
   ],
   "source": [
    "from typing import List, Tuple, Optional, Set, Dict\n",
    "import numpy as np\n",
    "import plotly.graph_objects as go\n",
    "from collections import defaultdict\n",
    "\n",
    "class Item:\n",
    "    def __init__(self, dimensions: Tuple[float, ...]):\n",
    "        # Convert to tuple of floats and ensure exactly 3 dimensions\n",
    "        dims = tuple(float(x) for x in dimensions)\n",
    "        if len(dims) == 1:\n",
    "            self.original_dim = (dims[0], dims[0], dims[0])\n",
    "        elif len(dims) == 2:\n",
    "            self.original_dim = (dims[0], dims[1], dims[1])  # Make square base\n",
    "        else:\n",
    "            self.original_dim = dims[:3]  # Take first 3 elements\n",
    "        self.rotations = self.generate_rotations()\n",
    "        \n",
    "    def generate_rotations(self) -> List[Tuple[float, float, float]]:\n",
    "        l, w, h = self.original_dim\n",
    "        unique_rotations = set()\n",
    "        \n",
    "        # Only consider rotations where height is the smallest dimension (for better stacking)\n",
    "        if h <= l and h <= w:\n",
    "            unique_rotations.add((l, w, h))\n",
    "            unique_rotations.add((w, l, h))\n",
    "        if l <= h and l <= w:\n",
    "            unique_rotations.add((h, w, l))\n",
    "            unique_rotations.add((w, h, l))\n",
    "        if w <= h and w <= l:\n",
    "            unique_rotations.add((l, h, w))\n",
    "            unique_rotations.add((h, l, w))\n",
    "            \n",
    "        # If all dimensions are equal, just use one rotation\n",
    "        if l == w == h:\n",
    "            return [(l, w, h)]\n",
    "            \n",
    "        return list(unique_rotations)\n",
    "        \n",
    "    @property\n",
    "    def volume(self) -> float:\n",
    "        l, w, h = self.original_dim\n",
    "        return l * w * h\n",
    "\n",
    "class PlacedItem:\n",
    "    def __init__(self, corner: Tuple[float, float, float], dimensions: Tuple[float, float, float]):\n",
    "        self.corner = corner\n",
    "        self.dimensions = dimensions\n",
    "        self.centroid = (\n",
    "            corner[0] + dimensions[0] / 2,\n",
    "            corner[1] + dimensions[1] / 2,\n",
    "            corner[2] + dimensions[2] / 2\n",
    "        )\n",
    "        \n",
    "    def corners(self) -> List[Tuple[float, float, float]]:\n",
    "        x, y, z = self.corner\n",
    "        l, w, h = self.dimensions\n",
    "        return [\n",
    "            (x, y, z),\n",
    "            (x + l, y, z),\n",
    "            (x + l, y + w, z),\n",
    "            (x, y + w, z),\n",
    "            (x, y, z + h),\n",
    "            (x + l, y, z + h),\n",
    "            (x + l, y + w, z + h),\n",
    "            (x, y + w, z + h)\n",
    "        ]\n",
    "    \n",
    "    def bottom_face(self) -> List[Tuple[float, float, float]]:\n",
    "        x, y, z = self.corner\n",
    "        l, w, _ = self.dimensions\n",
    "        return [\n",
    "            (x, y, z),\n",
    "            (x + l, y, z),\n",
    "            (x + l, y + w, z),\n",
    "            (x, y + w, z)\n",
    "        ]\n",
    "    \n",
    "    def top_face(self) -> List[Tuple[float, float, float]]:\n",
    "        x, y, z = self.corner\n",
    "        l, w, h = self.dimensions\n",
    "        return [\n",
    "            (x, y, z + h),\n",
    "            (x + l, y, z + h),\n",
    "            (x + l, y + w, z + h),\n",
    "            (x, y + w, z + h)\n",
    "        ]\n",
    "\n",
    "class Bin:\n",
    "    def __init__(self, size: Tuple[float, float, float]):\n",
    "        self.size = size\n",
    "        self.items: List[PlacedItem] = []\n",
    "        self.candidate_positions: Set[Tuple[float, float, float]] = {(0, 0, 0)}\n",
    "        self.height_map = defaultdict(float)  # Tracks the highest point at each (x,y) coordinate\n",
    "        \n",
    "    @staticmethod\n",
    "    def overlaps(corner1: Tuple[float, float, float], dim1: Tuple[float, float, float],\n",
    "                corner2: Tuple[float, float, float], dim2: Tuple[float, float, float]) -> bool:\n",
    "        x1, y1, z1 = corner1\n",
    "        l1, w1, h1 = dim1\n",
    "        x2, y2, z2 = corner2\n",
    "        l2, w2, h2 = dim2\n",
    "        \n",
    "        return not (\n",
    "            x1 + l1 <= x2 or\n",
    "            x2 + l2 <= x1 or\n",
    "            y1 + w1 <= y2 or\n",
    "            y2 + w2 <= y1 or\n",
    "            z1 + h1 <= z2 or\n",
    "            z2 + h2 <= z1\n",
    "        )\n",
    "        \n",
    "    def within_bin(self, corner: Tuple[float, float, float], dims: Tuple[float, float, float]) -> bool:\n",
    "        x, y, z = corner\n",
    "        l, w, h = dims\n",
    "        return (\n",
    "            x >= 0 and y >= 0 and z >= 0 and\n",
    "            x + l <= self.size[0] and\n",
    "            y + w <= self.size[1] and\n",
    "            z + h <= self.size[2]\n",
    "        )\n",
    "        \n",
    "    def check_stability(self, corner: Tuple[float, float, float], \n",
    "                       dims: Tuple[float, float, float], \n",
    "                       min_support: float = 0.7) -> bool:\n",
    "        x, y, z = corner\n",
    "        l, w, h = dims\n",
    "        bottom_z = z\n",
    "        \n",
    "        # Item is on the floor - stable\n",
    "        if bottom_z < 1e-5:\n",
    "            return True\n",
    "            \n",
    "        support_area = 0.0\n",
    "        bottom_area = l * w\n",
    "        bottom_corners = [\n",
    "            (x, y), (x + l, y),\n",
    "            (x, y + w), (x + l, y + w)\n",
    "        ]\n",
    "        corner_support = [False] * 4\n",
    "        \n",
    "        for placed_item in self.items:\n",
    "            p_x, p_y, p_z = placed_item.corner\n",
    "            p_l, p_w, p_h = placed_item.dimensions\n",
    "            top_z = p_z + p_h\n",
    "            \n",
    "            # Check if this item is directly below the candidate\n",
    "            if abs(top_z - bottom_z) > 1e-5:\n",
    "                continue\n",
    "                \n",
    "            # Calculate overlap area\n",
    "            x_overlap = max(0, min(x + l, p_x + p_l) - max(x, p_x))\n",
    "            y_overlap = max(0, min(y + w, p_y + p_w) - max(y, p_y))\n",
    "            overlap_area = x_overlap * y_overlap\n",
    "            \n",
    "            if overlap_area > 0:\n",
    "                support_area += overlap_area\n",
    "                \n",
    "                # Check corner support\n",
    "                for i, (cx, cy) in enumerate(bottom_corners):\n",
    "                    if (p_x <= cx <= p_x + p_l and p_y <= cy <= p_y + p_w):\n",
    "                        corner_support[i] = True\n",
    "        \n",
    "        # Check area support\n",
    "        if support_area >= min_support * bottom_area - 1e-5:\n",
    "            return True\n",
    "            \n",
    "        # Check corner support (3/4 corners supported)\n",
    "        if sum(corner_support) >= 3:\n",
    "            return True\n",
    "            \n",
    "        return False\n",
    "        \n",
    "    def update_height_map(self, new_item: PlacedItem):\n",
    "        x, y, z = new_item.corner\n",
    "        l, w, h = new_item.dimensions\n",
    "        \n",
    "        # Update height map for the item's footprint\n",
    "        for xi in np.arange(x, x + l, l/10):\n",
    "            for yi in np.arange(y, y + w, w/10):\n",
    "                self.height_map[(round(xi, 2), round(yi, 2))] = max(self.height_map.get((round(xi, 2), round(yi, 2)), 0), z + h)\n",
    "\n",
    "        \n",
    "    def get_best_candidate_position(self, dims: Tuple[float, float, float]) -> Tuple[float, float, float]:\n",
    "        \"\"\"Find the best position considering height and proximity to walls\"\"\"\n",
    "        best_pos = None\n",
    "        best_score = float('inf')\n",
    "        \n",
    "        l, w, h = dims\n",
    "        \n",
    "        for candidate in sorted(self.candidate_positions, key=lambda c: (c[2], c[0] + c[1])):\n",
    "            x, y, z = candidate\n",
    "            \n",
    "            # Skip positions that would extend beyond bin boundaries\n",
    "            if x + l > self.size[0] or y + w > self.size[1]:\n",
    "                continue\n",
    "                \n",
    "            # Calculate a score based on height and distance to walls\n",
    "            height_score = z\n",
    "            wall_score = min(x, self.size[0] - (x + l)) + min(y, self.size[1] - (y + w))\n",
    "            total_score = height_score * 0.7 + wall_score * 0.3\n",
    "            \n",
    "            if total_score < best_score:\n",
    "                best_score = total_score\n",
    "                best_pos = (x, y, z)\n",
    "        \n",
    "        return best_pos if best_pos is not None else (0, 0, 0)\n",
    "        \n",
    "    def try_place_item(self, item: Item, min_support: float = 0.7) -> bool:\n",
    "        # Try all rotations in order of increasing height (better for stacking)\n",
    "        for rotation in sorted(item.rotations, key=lambda r: r[2]):\n",
    "            # Get dimensions for this rotation\n",
    "            l, w, h = rotation\n",
    "            \n",
    "            # Find the best candidate position for this rotation\n",
    "            candidate = self.get_best_candidate_position(rotation)\n",
    "            if candidate is None:\n",
    "                continue\n",
    "                \n",
    "            x, y, z = candidate\n",
    "            candidate_corner = (x, y, z)\n",
    "            \n",
    "            # Skip invalid positions\n",
    "            if not self.within_bin(candidate_corner, rotation):\n",
    "                continue\n",
    "                \n",
    "            # Check overlaps with existing items\n",
    "            overlaps = False\n",
    "            for placed_item in self.items:\n",
    "                if self.overlaps(candidate_corner, rotation, \n",
    "                                placed_item.corner, placed_item.dimensions):\n",
    "                    overlaps = True\n",
    "                    break\n",
    "            if overlaps:\n",
    "                continue\n",
    "                \n",
    "            # Check stability\n",
    "            if not self.check_stability(candidate_corner, rotation, min_support):\n",
    "                continue\n",
    "                \n",
    "            # Place the item\n",
    "            placed = PlacedItem(candidate_corner, rotation)\n",
    "            self.items.append(placed)\n",
    "            \n",
    "            # Update candidate positions\n",
    "            self.candidate_positions.discard(candidate)\n",
    "            self.candidate_positions.add((x, y, z + h))  # Top of the new item\n",
    "            self.candidate_positions.add((x + l, y, z))  # Right side\n",
    "            self.candidate_positions.add((x, y + w, z))  # Front side\n",
    "            \n",
    "            # Update height map\n",
    "            self.update_height_map(placed)\n",
    "            \n",
    "            return True\n",
    "                \n",
    "        return False\n",
    "        \n",
    "    def remaining_volume(self) -> float:\n",
    "        used = sum(pi.dimensions[0] * pi.dimensions[1] * pi.dimensions[2] \n",
    "                  for pi in self.items)\n",
    "        return self.size[0] * self.size[1] * self.size[2] - used\n",
    "        \n",
    "    def get_all_coordinates(self) -> List[List[Tuple[float, float, float]]]:\n",
    "        return [item.corners() for item in self.items]\n",
    "\n",
    "def first_fit_bin_packing(\n",
    "    items_data: List, \n",
    "    bin_size: Tuple[float, float, float] = (1.0, 1.0, 1.0),\n",
    "    min_support: float = 0.7,\n",
    "    default_height: float = 0.1\n",
    ") -> List[Bin]:\n",
    "    bins: List[Bin] = []\n",
    "    \n",
    "    # Preprocess items\n",
    "    items = []\n",
    "    for element in items_data:\n",
    "        if isinstance(element, (tuple, list, np.ndarray)):\n",
    "            if len(element) == 2:\n",
    "                centroid, dim = element\n",
    "            elif len(element) == 6:  # Flat array\n",
    "                centroid, dim = element[:3], element[3:]\n",
    "            else:\n",
    "                raise ValueError(f\"Invalid item format: {element}\")\n",
    "        else:\n",
    "            raise ValueError(f\"Invalid item type: {type(element)}\")\n",
    "        \n",
    "        # Convert to list and handle various dimension lengths\n",
    "        dim_list = list(dim)\n",
    "        if len(dim_list) == 1:\n",
    "            dim_list = [dim_list[0]] * 3  # Make cube\n",
    "        elif len(dim_list) == 2:\n",
    "            dim_list.append(default_height)\n",
    "        elif len(dim_list) > 3:\n",
    "            dim_list = dim_list[:3]  # Take first 3 dimensions\n",
    "        \n",
    "        items.append(Item(tuple(dim_list)))\n",
    "    \n",
    "    # Sort items by volume (largest first) for better packing\n",
    "    items.sort(key=lambda x: x.volume, reverse=True)\n",
    "    \n",
    "    # Pack items\n",
    "    for item in items:\n",
    "        placed = False\n",
    "        \n",
    "        # Try existing bins\n",
    "        for bin in bins:\n",
    "            if bin.try_place_item(item, min_support):\n",
    "                placed = True\n",
    "                break\n",
    "                \n",
    "        # Create new bin if needed\n",
    "        if not placed:\n",
    "            new_bin = Bin(bin_size)\n",
    "            if new_bin.try_place_item(item, min_support):\n",
    "                bins.append(new_bin)\n",
    "            else:\n",
    "                print(f\"Warning: Could not place item with dimensions {item.original_dim}\")\n",
    "                \n",
    "    return bins\n",
    "\n",
    "def visualize_bins(bins: List[Bin]):\n",
    "    if not bins:\n",
    "        print(\"No bins to visualize\")\n",
    "        return\n",
    "        \n",
    "    fig = go.Figure()\n",
    "    bin_colors = [\n",
    "        '#1f77b4',  # blue\n",
    "        '#ff7f0e',  # orange\n",
    "        '#2ca02c',  # green\n",
    "        '#d62728',  # red\n",
    "        '#9467bd',  # purple\n",
    "        '#8c564b',  # brown\n",
    "    ]\n",
    "    \n",
    "    for bin_idx, bin in enumerate(bins):\n",
    "        bin_color = bin_colors[bin_idx % len(bin_colors)]\n",
    "        \n",
    "        # Draw bin container\n",
    "        fig.add_trace(go.Mesh3d(\n",
    "            x=[0, bin.size[0], bin.size[0], 0, 0, bin.size[0], bin.size[0], 0],\n",
    "            y=[0, 0, bin.size[1], bin.size[1], 0, 0, bin.size[1], bin.size[1]],\n",
    "            z=[0, 0, 0, 0, bin.size[2], bin.size[2], bin.size[2], bin.size[2]],\n",
    "            i=[7, 0, 0, 0, 4, 4, 6, 6, 4, 0, 3, 2],\n",
    "            j=[3, 4, 1, 2, 5, 6, 5, 2, 0, 1, 6, 3],\n",
    "            k=[0, 7, 2, 3, 6, 7, 1, 1, 5, 5, 7, 6],\n",
    "            color='lightgray',\n",
    "            opacity=0.2,\n",
    "            flatshading=True,\n",
    "            name=f'Bin {bin_idx+1} Container',\n",
    "            showlegend=True\n",
    "        ))\n",
    "        \n",
    "        # Draw bin wireframe\n",
    "        edges = [\n",
    "            (0,1), (1,2), (2,3), (3,0),\n",
    "            (4,5), (5,6), (6,7), (7,4),\n",
    "            (0,4), (1,5), (2,6), (3,7)\n",
    "        ]\n",
    "        corners = [\n",
    "            (0, 0, 0),\n",
    "            (bin.size[0], 0, 0),\n",
    "            (bin.size[0], bin.size[1], 0),\n",
    "            (0, bin.size[1], 0),\n",
    "            (0, 0, bin.size[2]),\n",
    "            (bin.size[0], 0, bin.size[2]),\n",
    "            (bin.size[0], bin.size[1], bin.size[2]),\n",
    "            (0, bin.size[1], bin.size[2])\n",
    "        ]\n",
    "        for edge in edges:\n",
    "            fig.add_trace(go.Scatter3d(\n",
    "                x=[corners[edge[0]][0], corners[edge[1]][0]],\n",
    "                y=[corners[edge[0]][1], corners[edge[1]][1]],\n",
    "                z=[corners[edge[0]][2], corners[edge[1]][2]],\n",
    "                mode='lines',\n",
    "                line=dict(color='black', width=2),\n",
    "                showlegend=False\n",
    "            ))\n",
    "        \n",
    "        # Draw items in bin with distinct colors\n",
    "        item_colors = [\n",
    "            '#3182bd', '#6baed6', '#9ecae1',  # blue variants\n",
    "            '#fd8d3c', '#fdae6b', '#fdd0a2',  # orange variants\n",
    "            '#31a354', '#74c476', '#a1d99b'   # green variants\n",
    "        ]\n",
    "        \n",
    "        for item_idx, item in enumerate(bin.items):\n",
    "            color = item_colors[item_idx % len(item_colors)]\n",
    "            corners = item.corners()\n",
    "            x = [c[0] for c in corners]\n",
    "            y = [c[1] for c in corners]\n",
    "            z = [c[2] for c in corners]\n",
    "            \n",
    "            # Add solid item mesh\n",
    "            fig.add_trace(go.Mesh3d(\n",
    "                x=x, y=y, z=z,\n",
    "                i=[7, 0, 0, 0, 4, 4, 6, 6, 4, 0, 3, 2],\n",
    "                j=[3, 4, 1, 2, 5, 6, 5, 2, 0, 1, 6, 3],\n",
    "                k=[0, 7, 2, 3, 6, 7, 1, 1, 5, 5, 7, 6],\n",
    "                color=color,\n",
    "                opacity=1.0,  # Opaque to prevent visual overlap confusion\n",
    "                flatshading=True,\n",
    "                name=f'Bin {bin_idx+1} Item {item_idx+1}',\n",
    "                showlegend=True,\n",
    "                hoverinfo='name',\n",
    "                lighting=dict(\n",
    "                    ambient=0.4,\n",
    "                    diffuse=0.6,\n",
    "                    fresnel=0.1,\n",
    "                    specular=0.2,\n",
    "                    roughness=0.2\n",
    "                ),\n",
    "                lightposition=dict(x=100, y=100, z=1000)\n",
    "            ))\n",
    "            \n",
    "            # Add item wireframe for clear edges\n",
    "            edges = [\n",
    "                (0,1), (1,2), (2,3), (3,0),\n",
    "                (4,5), (5,6), (6,7), (7,4),\n",
    "                (0,4), (1,5), (2,6), (3,7)\n",
    "            ]\n",
    "            for edge in edges:\n",
    "                fig.add_trace(go.Scatter3d(\n",
    "                    x=[x[edge[0]], x[edge[1]]],\n",
    "                    y=[y[edge[0]], y[edge[1]]],\n",
    "                    z=[z[edge[0]], z[edge[1]]],\n",
    "                    mode='lines',\n",
    "                    line=dict(color='black', width=2),\n",
    "                    showlegend=False,\n",
    "                    hoverinfo='none'\n",
    "                ))\n",
    "    \n",
    "    # Calculate the maximum dimension across all bins for proper scaling\n",
    "    max_dim = max(max(bin.size) for bin in bins) * 1.2 if bins else 1\n",
    "    \n",
    "    # Configure the layout\n",
    "    fig.update_layout(\n",
    "        scene=dict(\n",
    "            xaxis=dict(title='X', range=[0, max_dim]),\n",
    "            yaxis=dict(title='Y', range=[0, max_dim]),\n",
    "            zaxis=dict(title='Z', range=[0, max_dim]),\n",
    "            aspectmode='cube',\n",
    "            camera=dict(\n",
    "                up=dict(x=0, y=0, z=1),\n",
    "                eye=dict(x=1.8, y=1.8, z=0.8)  # Better viewing angle\n",
    "            )\n",
    "        ),\n",
    "        title='3D Bin Packing Visualization',\n",
    "        legend_title=\"Items\",\n",
    "        margin=dict(l=0, r=0, b=0, t=40),\n",
    "        hovermode='closest',\n",
    "        scene_camera=dict(\n",
    "            projection=dict(type='orthographic')  # Avoid perspective distortion\n",
    "        )\n",
    "    )\n",
    "    \n",
    "    fig.show()\n",
    "# Sample usage\n",
    "if __name__ == \"__main__\":\n",
    "    # Sample data with centroids and dimensions\n",
    "    data = [\n",
    "        # Format: (centroid, dimensions)\n",
    "        ([0.35, 0.5, 0.075], [0.4, 0.1, 0.15]),\n",
    "        ([0.35, 0.625, 0.075], [0.4, 0.15, 0.15]),\n",
    "        ([0.775, 0.625, 0.25], [0.45, 0.15, 0.5]),\n",
    "        ([0.35, 0.475, 0.35], [0.4, 0.05, 0.3]),\n",
    "        ([0.35, 0.6, 0.35], [0.4, 0.2, 0.3]),\n",
    "        ([0.25, 0.575, 0.175], [0.2, 0.25, 0.05]),\n",
    "        ([0.075, 0.475, 0.425], [0.15, 0.05, 0.15]),\n",
    "        ([0.075, 0.6, 0.425], [0.15, 0.2, 0.15]),\n",
    "        ([0.6, 0.275, 0.25], [0.2, 0.15, 0.5]),\n",
    "        ([0.6, 0.5, 0.25], [0.2, 0.2, 0.5]),\n",
    "        ([0.6, 0.775, 0.25], [0.2, 0.15, 0.5]),\n",
    "        ([0.775, 0.275, 0.25], [0.05, 0.15, 0.5]),\n",
    "        ([0.25, 0.575, 0.15], [0.15, 0.25, 0.3]),\n",
    "        ([0.075, 0.575, 0.325], [0.15, 0.25, 0.05])\n",
    "    ]\n",
    "    \n",
    "    bins = first_fit_bin_packing(data, bin_size=(1.0, 1.0, 1.0), min_support=0.7)\n",
    "    \n",
    "    # Print results\n",
    "    for i, bin in enumerate(bins):\n",
    "        print(f\"Bin {i+1}:\")\n",
    "        print(f\"  Dimensions: {bin.size}\")\n",
    "        print(f\"  Items: {len(bin.items)}\")\n",
    "        print(f\"  Packing efficiency: {(1 - bin.remaining_volume() / (bin.size[0]*bin.size[1]*bin.size[2]))*100:.2f}%\")\n",
    "        for j, item in enumerate(bin.items):\n",
    "            print(f\"  Item {j+1}:\")\n",
    "            print(f\"    Position: {item.corner}\")\n",
    "            print(f\"    Dimensions: {item.dimensions}\")\n",
    "            print(f\"    Volume: {item.dimensions[0]*item.dimensions[1]*item.dimensions[2]:.4f}\")\n",
    "    \n",
    "    visualize_bins(bins)"
   ]
  },
  {
   "cell_type": "code",
   "execution_count": null,
   "id": "c0b9de00",
   "metadata": {},
   "outputs": [],
   "source": []
  }
 ],
 "metadata": {
  "kernelspec": {
   "display_name": "Python 3",
   "language": "python",
   "name": "python3"
  },
  "language_info": {
   "codemirror_mode": {
    "name": "ipython",
    "version": 3
   },
   "file_extension": ".py",
   "mimetype": "text/x-python",
   "name": "python",
   "nbconvert_exporter": "python",
   "pygments_lexer": "ipython3",
   "version": "3.10.12"
  }
 },
 "nbformat": 4,
 "nbformat_minor": 5
}
